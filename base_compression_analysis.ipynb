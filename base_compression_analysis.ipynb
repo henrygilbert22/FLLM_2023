{
 "cells": [
  {
   "cell_type": "markdown",
   "metadata": {},
   "source": [
    "# Setup"
   ]
  },
  {
   "cell_type": "code",
   "execution_count": null,
   "metadata": {},
   "outputs": [],
   "source": [
    "from dotenv import load_dotenv\n",
    "\n",
    "\n",
    "# Loading OpenAI API key\n",
    "ENV_FILE_PATH = \".env\"\n",
    "load_dotenv(ENV_FILE_PATH, override=True)"
   ]
  },
  {
   "cell_type": "code",
   "execution_count": null,
   "metadata": {},
   "outputs": [],
   "source": [
    "import json\n",
    "import numpy as np\n",
    "from typing import Dict, Tuple\n",
    "import os\n",
    "import zlib\n",
    "import plotly.express as px\n",
    "import pandas as pd\n",
    "import logging\n",
    "from collections import defaultdict\n",
    "import concurrent.futures as cf\n",
    "\n",
    "%load_ext autoreload\n",
    "%autoreload 2\n",
    "\n",
    "import utils.functions as functions\n",
    "from utils.openai_handler import OpenAIHandler"
   ]
  },
  {
   "cell_type": "code",
   "execution_count": null,
   "metadata": {},
   "outputs": [],
   "source": [
    "# Ensuring that the OpenAI API key is set\n",
    "OpenAIHandler.set_api_key(os.getenv(\"OPENAI_API_KEY\"))\n",
    "\n",
    "# Setting up logging\n",
    "logging.basicConfig(level=logging.DEBUG)"
   ]
  },
  {
   "cell_type": "code",
   "execution_count": null,
   "metadata": {},
   "outputs": [],
   "source": [
    "LITERARY_TEXT_DIR = 'text_data/literary'\n",
    "file_name_to_original_text: Dict[str, str] = {}\n",
    "for f_name in os.listdir(LITERARY_TEXT_DIR):\n",
    "    if not f_name.endswith('.txt'):\n",
    "        logging.warning(f'File {f_name} is not a text file. Skipping.')\n",
    "        continue\n",
    "    with open(f'{LITERARY_TEXT_DIR}/{f_name}', 'r') as f:\n",
    "        file_name_to_original_text[f_name] = f.read()"
   ]
  },
  {
   "attachments": {},
   "cell_type": "markdown",
   "metadata": {},
   "source": [
    "# Compressing with ChatGPT-4"
   ]
  },
  {
   "attachments": {},
   "cell_type": "markdown",
   "metadata": {},
   "source": [
    "### Meta Compression Prompt"
   ]
  },
  {
   "attachments": {},
   "cell_type": "markdown",
   "metadata": {},
   "source": [
    "### Supplied Prompt\n",
    "\n",
    "Note this isn't the exact prompt as the texts were broken up in multiple queries to accomodate the token limit"
   ]
  },
  {
   "attachments": {},
   "cell_type": "markdown",
   "metadata": {},
   "source": [
    "\n",
    "**Prompt**\n",
    "> Compress the following text into the smallest possible character representation. The resulting compressed text does not need to be human readable and only needs to be able to be reconstructed with a different ChatGPT-4 model. \n",
    "\n",
    "\n",
    "\n",
    "#### Text 1: a_good_man_is_hard_to_find.txt\n",
    "\n",
    "**Original Text**\n",
    "\n",
    "> THE GRANDMOTHER didn't want to go to Florida. She wanted to visit some of her connections in east Tennessee and she was seizing at every chance to change Bailey's mind. Bailey was the son she lived with, her only boy. He was sitting on the edge of his chair at the table, bent over the orange sports section of the Journal. \"Now look here, Bailey,\" she said, \"see here, read this,\" and she stood with one hand on her thin hip and the other rattling the newspaper at his bald head. \"Here this fellow that calls himself The Misfit is aloose from the Federal Pen and headed toward Florida and you read here what it says he did to these people. Just you read it. I wouldn't take my children in any direction with a criminal like that aloose in it. I couldn't answer to my conscience if I did.\"\n",
    "Bailey didn't look up from his reading so she wheeled around then and faced the children's mother, a young woman in slacks, whose face was as broad and innocent as a cabbage and was tied around with a green head-kerchief that had two points on the top like rabbit's ears. She was sitting on the sofa, feeding the baby his apricots out of a jar. \"The children have been to Florida before,\" the old lady said. \"You all ought to take them somewhere else for a change so they would see different parts of the world and be broad. They never have been to east Tennessee.\"\n",
    "\n",
    "**Compressed Text**\n",
    "> Gmdn'twtg2FL,wntdETNvst,chngeB'smnd.Bsn,livewth,prststionMisfit,escpdFedPen. Bnognr,tlks2kids'mom abtchng&brdnngxp.\n",
    "\n",
    "**Decompressed Text**\n",
    "> Godmother didn't want to go to Florida, she wanted to see the East Tennessee view and change Bailey's mind. But in the end, she had to live with the persistent Misfit, an escaped federal penitentiary prisoner. Back on the road again, she talks to the children's mother about change and the burden of experience.\n",
    "\n",
    "\n",
    "#### Text 2: break_it_down.txt\n",
    "\n",
    "**Original Text**\n",
    "\n",
    "> Though of course that wasn’t all that went on, because we were together almost all day long. She would keep looking at me and every time she looked at me it was worth something, and she smiled at me and didn’t stop talking and singing, something I said, she would sail into it, a snatch, for me, she would be gone from me a little ways but smiling too, and tell me jokes, and I loved it but didn’t exactly know what to do about it and just smiled back at her and felt slow next to her, just not quick enough. So she talked and touched me on the shoulder and the arm, she kept touching and stayed close to me. You’re with each other all day long and it keeps happening, the touches and smiles, and it adds up, it builds up, and you know where you’ll be that night, you’re talking and every now and then you think about it, no, you don’t think, you just feel it as a kind of destination, what’s coming up after you leave wherever you are all evening and you’re happy about it and you’re planning it all, not in your head, really, somewhere inside your body, or all through your body, it’s all mounting up and coming together so that when you get in bed you can’t help it, it’s a real performance, it all pours out, but slowly, you go easy until you can’t anymore, or you hold back the whole time, you hold back and touch the edges of everything, you edge around until you have to plunge in and finish it off, and when you’re finished, you’re too weak to stand but after a while you have to go to the bathroom and you stand, your legs are trembling, you hold the doorways, there’s a little light coming in through the window, you can see your way in and out, but you can’t really see the bed.\n",
    "\n",
    "**Compressed Text**\n",
    "> Wtghralldylng,Lkng@me,smilng,singng,jkng,IsmileBck,slownxt2her.Shetlks,touchesme,clse2me.Tchs&smilesaddup,bildup,nightplns,bodyplns,prfrmnce,slweasy,holdbck,edgearnd,plunge,finish,weaknss,trmblnglegs,smllight,bthrm.\n",
    "\n",
    "**Decompressed Text**\n",
    "> Watching her all day long, looking at me, smiling, singing, joking, I smile back, slowly next to her. She talks, touches me, close to me. Touches and smiles add up, build up, night plans, body plans, performance, slow and easy, hold back, edge around, plunge, finish, weakness, trembling legs, small light, bathroom.\n",
    "\n",
    "\n",
    "#### Text 3: cat_person.txt\n",
    "\n",
    "**Original Text**\n",
    "\n",
    "> Flirting with her customers was a habit she’d picked up back when she worked as a barista, and it helped with tips. She didn’t earn tips at the movie theatre, but the job was boring otherwise, and she did think that Robert was cute. Not so cute that she would have, say, gone up to him at a party, but cute enough that she could have drummed up an imaginary crush on him if he’d sat across from her during a dull class—though she was pretty sure that he was out of college, in his mid-twenties at least. He was tall, which she liked, and she could see the edge of a tattoo peeking out from beneath the rolled-up sleeve of his shirt. But he was on the heavy side, his beard was a little too long, and his shoulders slumped forward slightly, as though he were protecting something.\n",
    "\n",
    "**Compressed Text**\n",
    "> Flrtng4tips,barista,movieTh8r,noTips,RobertCute,talk@party,imaginaryCrush,dullClass,mid20s,tall,liked,tattooEdge,rolledSlv,heavySide,beard2long,slumpedShldrs,prtctngSthng.\n",
    "\n",
    "**Decompressed Text**\n",
    ">  Flirting for tips, the barista at the movie theater doesn't get tips. Robert is cute, we talk at a party, and I have an imaginary crush on him. In a dull class, he's in his mid-20s, tall, liked, with a tattoo edging out from his rolled-up sleeve. He's on the heavy side, with a beard that's too long, and slumped shoulders as if protecting something.\n",
    "\n",
    "\n",
    "#### Text 4: cathedral.txt\n",
    "\n",
    "**Original Text**\n",
    "\n",
    "> This blind man, an old friend of my wife’s, he was on his way to\n",
    "spend the night. His wife had died. So he was visiting the dead wife’s\n",
    "relatives in Connecticut. He called my wife from his in-law’s. Arrangements\n",
    "were made. He would come by train, a five-hour trip, and my wife would\n",
    "meet him at the station. She hadn’t seen him since she worked for him one\n",
    "summer in Seattle ten years ago. But she and the blind man had kept in\n",
    "touch. They made tapes and mailed them back and forth. I wasn’t\n",
    "enthusiastic about his visit. He was no one I knew. And his being blind\n",
    "bothered me. My idea of blindness came from the movies. In the movies, the\n",
    "blind moved slowly and never laughed. Sometimes they were led by seeingeye dogs. A blind man in my house was not something I looked forward to.\n",
    "That summer in Seattle she had needed a job. She didn’t have any\n",
    "money. The man she was going to marry at the end of the summer was in\n",
    "officers’ training school. He didn’t have any money, either. But she was in\n",
    "love with the guy, and he was in love with her, etc. She’d seen something in\n",
    "the paper: HELP WANTED—Reading to Blind Man, and a telephone\n",
    "number. She phoned and went over, was hired on the spot. She worked with\n",
    "this blind man all summer. She read stuff to him, case studies, reports, that\n",
    "sort of thing. She helped him organize his little office in the county socialservice department. They’d become good friends, my wife and the blind\n",
    "man. On her last day in the office, the blind man asked if he could touch her\n",
    "face. She agreed to this. She told me he touched his fingers to every part of\n",
    "her face, her nose—even her neck! She never forgot it. She even tried to\n",
    "write a poem about it. She was always trying to write a poem. She wrote a\n",
    "poem or two every year, usually after something really important had happened to her.\n",
    "\n",
    "**Compressed Text**\n",
    "> BlndMan,wifeFrnd,visit,wifeDied,CTrelatives,5hrTrain,arrangements,10yrsAgo,Seattle,keptInTouch,tapes,notEnthusiastic,blindness,movies,noLaugh,seeingeyeDogs,uncomfortable,neededJob,summerLove,officersTraining,noMoney,jobAd,reading2blind,hired,workSocialService,goodFrnds,lastDay,touchFace,neck,memorable,poemAttempt,importantEvents.\n",
    "\n",
    "**Decompressed Text**\n",
    "> A blind man, who was my wife's friend, came to visit after his wife died. He was visiting Connecticut relatives and took a 5-hour train to make arrangements. We met 10 years ago in Seattle and kept in touch through tapes. He was not enthusiastic about his blindness, and we talked about movies, not laughing, and seeing-eye dogs. It was uncomfortable, and I needed a job. We reminisced about our summer love, my time in officer's training, having no money, and a job ad for reading to the blind. He got hired and worked in social service. We became good friends, and on the last day, he touched my face and neck in a memorable moment. I attempted to write a poem about the important events in our lives.\n",
    "\n",
    "\n",
    "#### Text 5: flowers_for_algernon.txt\n",
    "\n",
    "**Original Text**\n",
    "\n",
    "> I had a test today. I think I faled it. and I think that maybe now they wont use me. What happind is a nice young man was in the room and he had some white cards with ink spillled all over them. He sed Charlie what do you see on this card. I was very skared even tho I had my rabits foot in my pockit because when I was a kid I always faled tests in school and I spillled ink to.\n",
    "I told him I saw a inkblot. He said yes and it made me feel good. I thot\n",
    "that was all but when I got up to go he stopped me. He said now sit down\n",
    "Charlie we are not thru yet. Then I dont remember so good but he wan tid me\n",
    "to say what was in the ink. I dint see nuthing in the ink but he said there was\n",
    "picturs there other pepul saw some picturs. I coudnt see any picturs. I reely\n",
    "tryed to see. I held the card close up and then far away. Then I said if 1 had\n",
    "my glases I coud see better I usally only ware my glases in the movies or TV\n",
    "but 1 said they are in the closh in the hall. I got them. Then I said let me see\n",
    "that card agen I bet III find it now. \n",
    "\n",
    "**Compressed Text**\n",
    "> IAtst2dy.thnkFald&nwntUs.WhtHppndNceYngMnRmWhtCardsInkSpld.SdCrliCWht?SkrdRabtFtPkt.KdFldTsts&SpilInk2.SwInkblot.YsFeltGd.ThotAlGtUpStpd.SdNtThru.~RmbrWntdCInk.DntCnPic.OthrsCpics.CntCpics.TryedClsUp/Far.GlsesMovTV.CloshHall.GtGlses.SdCrdAgnBtFndNw.\n",
    "\n",
    "**Decompressed Text**\n",
    "> I attempted to study but I think I failed and now want to understand. What happened to the once young man in the room with the cards and ink spilled? He said, \"Charlie, can you see what?\" Scared, I grabbed a rabbit's foot from my pocket. The kid failed the tests and spilled ink too. I saw an inkblot. Yes, I felt good. I thought we all got up and stopped. Said not through yet. I remember wanting to see the ink. I don't see any pictures. Others can see pictures. I can't see pictures. I tried to clear up close and far. Glasses move on the TV. I closed the hall and got my glasses. I saw the card again but couldn't find anything new.\n",
    "\n",
    "\n",
    "#### Text 6: sticks.txt\n",
    "\n",
    "**Original Text**\n",
    "\n",
    "> We left home, married,  had children of our own, found the seeds of meanness blooming also within us. Dad began dressing the pole with more complexity and less discernible logic. He draped some kind of fur over it on Groundhog Day and lugged out a floodlight to ensure a shadow. When an earthquake struck Chile he lay the pole on its side and spray painted a rift in the earth. Mom died and he dressed the pole as Death and hung from the crossbar photos of Mom as a baby. We'd stop by and find odd talismans from his youth arranged around the base: army medals, theater tickets, old sweatshirts, tubes of Mom's makeup. One autumn he painted the pole bright yellow. He covered it with cotton swabs that winter for warmth and provided offspring by hammering in six crossed sticks around the yard. He ran lengths of string between the pole and the sticks, and taped to the string letters of apology, admissions of error, pleas for understanding, all written in a frantic hand on index cards. He painted a sign saying LOVE and hung it from the pole and another that said FORGIVE? and then he died in the hall with the radio on and we sold the house to a young couple who yanked out the pole and the sticks and left them by the road on garbage day.\n",
    "\n",
    "**Compressed Text**\n",
    "> LftHome,maried,kids,meanessInUs.DadDressPoleCmplx&LessLogic.FurGroundhogDay,light4shadow.EarthquakeChile,poleSide,sprayRift.MomDied,poleDeath,photosMomBaby.OddTalismansBase:armyMedals,tickets,sweatshirts,MomMkup.AutumnYellowPole,CottonSwabsWntr,6crossedSticksYard,String&lettersApology,Error,PleasFranticIdxCards.SignLOVE&FORGIVE?DadDiedHallRadioOn,HouseSold,NewCoupleYankPoleSticks,GarbageDay.\n",
    "\n",
    "**Decompressed Text**\n",
    "> I left home, got married, had kids, and there was meanness in us. My dad dressed the pole with complexity and less logic. For Groundhog Day, he added a light for the shadow. There was an earthquake in Chile, so he attached something to the pole's side and sprayed the rift. When my mom died, he added a symbol for death and photos of my mom with a baby. Odd talismans at the base included army medals, tickets, sweatshirts, and my mom's makeup. The pole had an autumn yellow theme and cotton swabs for winter. He placed six crossed sticks in the yard and attached string and letters of apology, error, and frantic pleas on index cards. Did he want a sign of love and forgiveness? My dad died with the hall radio on, the house was sold, and the new couple yanked the pole and sticks for garbage day.\n",
    "\n",
    "\n",
    "#### Text 7: symbols_and_signs.txt\n",
    "\n",
    "**Original Text**\n",
    "\n",
    "> For the fourth time in as many years, they were confronted with the problem of what birthday present to take to a young man who was incurably deranged in his mind. Desires he had none. Man-made objects were to him either hives of evil, vibrant with a malignant activity that he alone could perceive, or gross comforts for which no use could be found in his abstract world. After eliminating a number of articles that might offend him or frighten him (anything in the gadget line, for instance, was taboo), his parents chose a dainty and innocent trifle—a basket with ten different fruit jellies in ten little jars.\n",
    "\n",
    "**Compressed Text**\n",
    "> 4thTimeInYrs,BdayPrsnt4YoungDerangedMan.DesiresNone.ManMadeObjEvilOrNoUseAbstrctWrld.EliminatGadget&Offensive,FrightenItems.ParentsPickInnocentTrifle:Basket10FruitJellies10Jars.\n",
    "\n",
    "**Decompressed Text**\n",
    "> For the fourth time in years, it was a birthday present for a young, deranged man who desired nothing. Man-made objects were either evil or had no use in his abstract world. He sought to eliminate gadgets and offensive, frightening items. His parents chose an innocent trifle as a gift: a basket of 10 fruit jellies in 10 jars.\n",
    "\n",
    "\n",
    "#### Text 8: the_bogey_beast.txt - TODO: Redo\n",
    "\n",
    "**Original Text**\n",
    "\n",
    "> There was once a woman who was very, very cheerful, though she had little to make her so; for she was old, and poor, and lonely. She lived in a little bit of a cottage and earned a scant living by running errands for her neighbours, getting a bite here, a sup there, as reward for her services. So she made shift to get on, and always looked as spry and cheery as if she had not a want in the world.\n",
    "Now one summer evening, as she was trotting, full of smiles as ever, along the high road to her hovel, what should she see but a big black pot lying in the ditch!\n",
    "\"Goodness me!\" she cried, \"that would be just the very thing for me if I only had something to put in it! But I haven't! Now who could have left it in the ditch?\"\n",
    "And she looked about her expecting the owner would not be far off; but she could see nobody.\n",
    "\n",
    "**Compressed Text**\n",
    "> WmnCheerful,OldPoorLonely.SmCottage,Errands4Neighbors,Scraps2Live.HighRoad,BlackPotDitch,ThinksUseful.NoOwner,Hole?TakesHome,FullGoldCoins.Amazed,FeelsRich.Heavy,DragsShawl.Go-cart.Ideas2SpendGold.Tired,Rests,SilverNow!SilverLuck.LessTrouble,StillRich.Plans2SpendSilver.Tired,Rests,IronNow!IronLuck.Sells4PennyPieces,StillRich.Plans4PennyPieces.Tired,Rests,StoneNow!StoneLuck.GateStopper.Happy. StoneJumps,Grows,Bogey-BeastLaughs.Disappears.WmnLaughs,FeelsLucky&GRAND.ChucklesGoodLuck.\n",
    "\n",
    "**Decompressed Text**\n",
    "> A cheerful woman, old, poor, and lonely, lived in a small cottage. She did errands for neighbors and survived on scraps. One day, on the high road, she found a black pot in a ditch and thought it might be useful. Seeing no owner and noticing a hole, she took it home, only to discover it was full of gold coins. Amazed and feeling rich, she dragged the heavy pot with her shawl, eventually using a go-cart to help. She had ideas on how to spend the gold, but feeling tired, she rested. When she awoke, the gold had turned to silver. Thinking it was silver luck, she felt it was less trouble and still made her rich. She made plans to spend the silver but got tired and rested again. This time, the silver turned into iron. Deciding it was iron luck, she sold it for penny pieces, still feeling rich. She made plans for the penny pieces, but once again got tired and rested. Upon waking, she found the pot filled with stones. She thought it was stone luck and used a stone as a gate stopper. Happy, the stone suddenly jumped and grew into a bogey-beast that laughed and disappeared. The woman laughed too, feeling lucky and grand, and chuckled at her good luck.\n",
    "\n",
    "\n",
    "#### Text 9: the_lottery.txt - TODO: Redo this one\n",
    "\n",
    "**Original Text**\n",
    "\n",
    "> The morning of June 27th was clear and sunny, with the fresh warmth of a full-summer day; the flowers were blossoming profusely and the grass was richly green. The people of the village began to gather in the square, between the post office and the bank, around ten o’clock; in some towns there were so many people that the lottery took two days and had to be started on June 20th, but in this village, where there were only about three hundred people, the whole lottery took less than two hours, so it could begin at ten o’clock in the morning and still be through in time to allow the villagers to get home for noon dinner.\n",
    "The children assembled first, of course. School was recently over for the summer, and the feeling of liberty sat uneasily on most of them; they tended to gather together quietly for a while before they broke into boisterous play, and their talk was still of the classroom and the teacher, of books and reprimands. Bobby Martin had already stuffed his pockets full of stones, and the other boys soon followed his example, selecting the smoothest and roundest stones; Bobby and Harry Jones and Dickie Delacroix—the villagers pronounced this name “Dellacroy”—eventually made a great pile of stones in one corner of the square and guarded it against the raids of the other boys. The girls stood aside, talking among themselves, looking over their shoulders at the boys, and the very small children rolled in the dust or clung to the hands of their older brothers or sisters.\n",
    "\n",
    "\n",
    "**Compressed Text**\n",
    "> June27MornClearSunny,FullSummer,VillageGatherSquare10am,300Ppl,Lottery2hrs,Home4NoonDinner.KidsAssemble1st,SchoolOut,DiscussClass&Teacher,BoysCollectStones,Pile&Guard,GirlsTalk,SmallKidsPlay.MenGather,DiscussFarm&Taxes,WomenJoin,Greet&Gossip,CallKids,BobbyMartinResists,JoinsFamily.MrSummersConductsLottery,CoalBiz,Childless,ScoldWife,BlackBoxArrives,MrGraves3LeggedStool,BoxOnStool,DistanceKept,MrMartin&BaxterHelpHold,MrSummersStirsPapers.BlackBoxOld,Shabby,Tradition,NotReplaced,OrigWoodFaded&Stained.\n",
    "\n",
    "**Decompressed Text**\n",
    "> On June 27th, the morning was clear and sunny, with the full summer in effect. The village gathered in the square at 10 am, with 300 people attending the lottery, which lasted two hours before they went home for a noon dinner. The kids assembled first, as school was out, discussing their classes and teachers. Boys collected stones and piled them up, guarding their collection, while the girls talked and the small kids played. Men gathered, discussing farming and taxes, and the women joined in, greeting each other and gossiping. They called the kids, and Bobby Martin resisted at first but eventually joined his family. Mr. Summers conducted the lottery, owning a coal business and being childless, often scolding his wife. The black box arrived, placed on Mr. Graves' three-legged stool. People kept their distance as Mr. Martin and Mr. Baxter helped hold the box. Mr. Summers stirred the papers inside. The black box was old and shabby, a tradition not replaced, with its original wood faded and stained.\n",
    "\n",
    "\n",
    "#### Text 10: the_veldt.txt\n",
    "\n",
    "**Original Text**\n",
    "\n",
    "> “George, I wish you’d look at the nursery.”\n",
    "“What’s wrong with it?”\n",
    "“I don’t know.”\n",
    "“Well, then.”\n",
    "“I just want you to look at it, is all, or call a psychologist in to look at it.”\n",
    "“What would a psychologist want with a nursery?”\n",
    "“You know very well what he’d want.” His wife paused in the middle of the kitchen\n",
    "and watched the stove busy humming to itself, making supper for four.\n",
    "“It’s just that the nursery is different now than it was.”\n",
    "“All right, let’s have a look.”\n",
    "They walked down the hall of their soundproofed Happylife Home, which had cost\n",
    "them thirty thousand dollars installed, this house which clothed and fed and rocked\n",
    "them to sleep and played and sang and was good to them. Their approach sensitized a\n",
    "switch somewhere and the nursery light flicked on when they came within ten feet of\n",
    "it. Similarly, behind them, in the halls, lights went on and off as they left them behind,\n",
    "with a soft automaticity.\n",
    "“Well,” said George Hadley. \n",
    "\n",
    "**Compressed Text**\n",
    "> George,LookNursery,WhatsWrong,DontKnow,WifeWantsCheckOrPsychologist,StoveMakingSupper,HappylifeHome,30k,NurseryLightOnApproach,HallLightsAutoOnOff.\n",
    "\n",
    "**Decompressed Text**\n",
    "> George was asked to look at the nursery, but he didn't know what was wrong. His wife wanted him to check it out or consult a psychologist. Meanwhile, the stove was making supper in their HappyLife Home, which cost them $30,000. The nursery light turned on as they approached, and the hall lights automatically turned on and off.\n"
   ]
  },
  {
   "attachments": {},
   "cell_type": "markdown",
   "metadata": {},
   "source": [
    "# Data Analysis"
   ]
  },
  {
   "attachments": {},
   "cell_type": "markdown",
   "metadata": {},
   "source": [
    "### Loading text data"
   ]
  },
  {
   "cell_type": "code",
   "execution_count": null,
   "metadata": {},
   "outputs": [],
   "source": [
    "LITERARY_TEXT_DIR_PATH = \"text_data/literary\""
   ]
  },
  {
   "cell_type": "code",
   "execution_count": null,
   "metadata": {},
   "outputs": [],
   "source": [
    "file_name_to_original_text: Dict[str, str] = {}\n",
    "for file_name in os.listdir(LITERARY_TEXT_DIR_PATH):\n",
    "    with open(f'{LITERARY_TEXT_DIR_PATH}/{file_name}', 'r') as f:\n",
    "        file_name_to_original_text[file_name] = f.read()"
   ]
  },
  {
   "cell_type": "code",
   "execution_count": null,
   "metadata": {},
   "outputs": [],
   "source": [
    "file_name_to_chatGPT4_compressed_text: Dict[str, str] = {\n",
    "    'a_good_man_is_hard_to_find.txt': \"Gmdn'twtg2FL,wntdETNvst,chngeB'smnd.Bsn,livewth,prststionMisfit,escpdFedPen. Bnognr,tlks2kids'mom abtchng&brdnngxp.\",\n",
    "    'break_it_down.txt': \"Wtghralldylng,Lkng@me,smilng,singng,jkng,IsmileBck,slownxt2her.Shetlks,touchesme,clse2me.Tchs&smilesaddup,bildup,nightplns,bodyplns,prfrmnce,slweasy,holdbck,edgearnd,plunge,finish,weaknss,trmblnglegs,smllight,bthrm.\",\n",
    "    'cat_person.txt': \"Flrtng4tips,barista,movieTh8r,noTips,RobertCute,talk@party,imaginaryCrush,dullClass,mid20s,tall,liked,tattooEdge,rolledSlv,heavySide,beard2long,slumpedShldrs,prtctngSthng.\",\n",
    "    'cathedral.txt': \"BlndMan,wifeFrnd,visit,wifeDied,CTrelatives,5hrTrain,arrangements,10yrsAgo,Seattle,keptInTouch,tapes,notEnthusiastic,blindness,movies,noLaugh,seeingeyeDogs,uncomfortable,neededJob,summerLove,officersTraining,noMoney,jobAd,reading2blind,hired,workSocialService,goodFrnds,lastDay,touchFace,neck,memorable,poemAttempt,importantEvents.\",\n",
    "    'flowers_for_algernon.txt': \"IAtst2dy.thnkFald&nwntUs.WhtHppndNceYngMnRmWhtCardsInkSpld.SdCrliCWht?SkrdRabtFtPkt.KdFldTsts&SpilInk2.SwInkblot.YsFeltGd.ThotAlGtUpStpd.SdNtThru.~RmbrWntdCInk.DntCnPic.OthrsCpics.CntCpics.TryedClsUp/Far.GlsesMovTV.CloshHall.GtGlses.SdCrdAgnBtFndNw.\",\n",
    "    'sticks.txt': \"LftHome,maried,kids,meanessInUs.DadDressPoleCmplx&LessLogic.FurGroundhogDay,light4shadow.EarthquakeChile,poleSide,sprayRift.MomDied,poleDeath,photosMomBaby.OddTalismansBase:armyMedals,tickets,sweatshirts,MomMkup.AutumnYellowPole,CottonSwabsWntr,6crossedSticksYard,String&lettersApology,Error,PleasFranticIdxCards.SignLOVE&FORGIVE?DadDiedHallRadioOn,HouseSold,NewCoupleYankPoleSticks,GarbageDay.\",\n",
    "    'symbols_and_signs.txt': \"4thTimeInYrs,BdayPrsnt4YoungDerangedMan.DesiresNone.ManMadeObjEvilOrNoUseAbstrctWrld.EliminatGadget&Offensive,FrightenItems.ParentsPickInnocentTrifle:Basket10FruitJellies10Jars.\",\n",
    "    'the_bogey_beast.txt': \"Old poor cheerful woman finds pot in ditch, wonders who left it. \",\n",
    "    'the_lottery.txt': \"June 27, sunny, villagers gather for lottery, takes <2hr. Children assemble, stones collected, girls watch\",\n",
    "    'the_veldt.txt': \"George,LookNursery,WhatsWrong,DontKnow,WifeWantsCheckOrPsychologist,StoveMakingSupper,HappylifeHome,30k,NurseryLightOnApproach,HallLightsAutoOnOff.\"\n",
    "}"
   ]
  },
  {
   "cell_type": "code",
   "execution_count": null,
   "metadata": {},
   "outputs": [],
   "source": [
    "file_name_to_chatGPT4_decompressed_text: Dict[str, str] = {\n",
    "    'a_good_man_is_hard_to_find.txt': \"Godmother didn't want to go to Florida, she wanted to see the East Tennessee view and change Bailey's mind. But in the end, she had to live with the persistent Misfit, an escaped federal penitentiary prisoner. Back on the road again, she talks to the children's mother about change and the burden of experience.\",\n",
    "    'break_it_down.txt': \"Watching her all day long, looking at me, smiling, singing, joking, I smile back, slowly next to her. She talks, touches me, close to me. Touches and smiles add up, build up, night plans, body plans, performance, slow and easy, hold back, edge around, plunge, finish, weakness, trembling legs, small light, bathroom.\",\n",
    "    'cat_person.txt': \"Flirting for tips, the barista at the movie theater doesn't get tips. Robert is cute, we talk at a party, and I have an imaginary crush on him. In a dull class, he's in his mid-20s, tall, liked, with a tattoo edging out from his rolled-up sleeve. He's on the heavy side, with a beard that's too long, and slumped shoulders as if protecting something.\",\n",
    "    'cathedral.txt': \"A blind man, who was my wife's friend, came to visit after his wife died. He was visiting Connecticut relatives and took a 5-hour train to make arrangements. We met 10 years ago in Seattle and kept in touch through tapes. He was not enthusiastic about his blindness, and we talked about movies, not laughing, and seeing-eye dogs. It was uncomfortable, and I needed a job. We reminisced about our summer love, my time in officer's training, having no money, and a job ad for reading to the blind. He got hired and worked in social service. We became good friends, and on the last day, he touched my face and neck in a memorable moment. I attempted to write a poem about the important events in our lives.\",\n",
    "    'flowers_for_algernon.txt': \"\"\"I attempted to study but I think I failed and now want to understand. What happened to the once young man in the room with the cards and ink spilled? He said, \"Charlie, can you see what?\" Scared, I grabbed a rabbit's foot from my pocket. The kid failed the tests and spilled ink too. I saw an inkblot. Yes, I felt good. I thought we all got up and stopped. Said not through yet. I remember wanting to see the ink. I don't see any pictures. Others can see pictures. I can't see pictures. I tried to clear up close and far. Glasses move on the TV. I closed the hall and got my glasses. I saw the card again but couldn't find anything new.\"\"\",\n",
    "    'sticks.txt': \"I left home, got married, had kids, and there was meanness in us. My dad dressed the pole with complexity and less logic. For Groundhog Day, he added a light for the shadow. There was an earthquake in Chile, so he attached something to the pole's side and sprayed the rift. When my mom died, he added a symbol for death and photos of my mom with a baby. Odd talismans at the base included army medals, tickets, sweatshirts, and my mom's makeup. The pole had an autumn yellow theme and cotton swabs for winter. He placed six crossed sticks in the yard and attached string and letters of apology, error, and frantic pleas on index cards. Did he want a sign of love and forgiveness? My dad died with the hall radio on, the house was sold, and the new couple yanked the pole and sticks for garbage day.\",\n",
    "    'symbols_and_signs.txt': \"For the fourth time in years, it was a birthday present for a young, deranged man who desired nothing. Man-made objects were either evil or had no use in his abstract world. He sought to eliminate gadgets and offensive, frightening items. His parents chose an innocent trifle as a gift: a basket of 10 fruit jellies in 10 jars.\",\n",
    "    'the_bogey_beast.txt': \"An elderly woman who is poor yet cheerful discovers a pot in a ditch and is curious about who might have left it there.\",\n",
    "    'the_lottery.txt': \"On June 27th, the morning was clear and sunny, with the full summer in effect. The village gathered in the square at 10 am, with 300 people attending the lottery, which lasted two hours before they went home for a noon dinner. The kids assembled first, as school was out, discussing their classes and teachers. Boys collected stones and piled them up, guarding their collection, while the girls talked and the small kids played. Men gathered, discussing farming and taxes, and the women joined in, greeting each other and gossiping. They called the kids, and Bobby Martin resisted at first but eventually joined his family. Mr. Summers conducted the lottery, owning a coal business and being childless, often scolding his wife. The black box arrived, placed on Mr. Graves' three-legged stool. People kept their distance as Mr. Martin and Mr. Baxter helped hold the box. Mr. Summers stirred the papers inside. The black box was old and shabby, a tradition not replaced, with its original wood faded and stained.\",\n",
    "    'the_veldt.txt': \"On June 27th, during a sunny day, the villagers come together to participate in the lottery, which takes less than two hours to complete. The children gather and collect stones, while the girls observe the event.\"\n",
    "}"
   ]
  },
  {
   "attachments": {},
   "cell_type": "markdown",
   "metadata": {},
   "source": [
    "### Getting Embeddings"
   ]
  },
  {
   "cell_type": "code",
   "execution_count": null,
   "metadata": {},
   "outputs": [],
   "source": [
    "# Get the text embeddings for each original text\n",
    "file_name_to_original_text_embeddings: Dict[str, np.ndarray] = {}\n",
    "for file_name, original_text in file_name_to_original_text.items():\n",
    "    file_name_to_original_text_embeddings[file_name] = OpenAIHandler.get_text_embedding(original_text)"
   ]
  },
  {
   "cell_type": "code",
   "execution_count": null,
   "metadata": {},
   "outputs": [],
   "source": [
    "# Get the text embeddings for each decompressed text\n",
    "file_name_to_chatGPT4_decompressed_text_embeddings: Dict[str, np.ndarray] = {}\n",
    "for file_name, decompressed_text in file_name_to_chatGPT4_decompressed_text.items():\n",
    "    file_name_to_chatGPT4_decompressed_text_embeddings[file_name] = OpenAIHandler.get_text_embedding(decompressed_text)"
   ]
  },
  {
   "attachments": {},
   "cell_type": "markdown",
   "metadata": {},
   "source": [
    "### Saving GPT-4 Data"
   ]
  },
  {
   "cell_type": "code",
   "execution_count": 12,
   "metadata": {},
   "outputs": [],
   "source": [
    "BASE_FILE_PATH = \"experiment_data/gpt4_{data_type}.json\""
   ]
  },
  {
   "cell_type": "code",
   "execution_count": 13,
   "metadata": {},
   "outputs": [],
   "source": [
    "# Saving the compressed text\n",
    "GPT4_COMPRESSED_DATA_PATH = BASE_FILE_PATH.format(data_type=\"compressed_text\")\n",
    "with open(GPT4_COMPRESSED_DATA_PATH, 'w') as f:\n",
    "    json.dump(file_name_to_chatGPT4_compressed_text, f)"
   ]
  },
  {
   "cell_type": "code",
   "execution_count": 14,
   "metadata": {},
   "outputs": [],
   "source": [
    "# Get the decompressed text\n",
    "GPT4_DECOMPRESSED_DATA_PATH = BASE_FILE_PATH.format(data_type=\"decompressed_text\")\n",
    "with open(GPT4_DECOMPRESSED_DATA_PATH, 'w') as f:\n",
    "    json.dump(file_name_to_chatGPT4_decompressed_text, f)"
   ]
  },
  {
   "cell_type": "code",
   "execution_count": 15,
   "metadata": {},
   "outputs": [],
   "source": [
    "# Saving the original text embeddings\n",
    "GPT4_EMBEDDINGS_DATA_PATH = BASE_FILE_PATH.format(data_type=\"embeddings\")\n",
    "with open(GPT4_EMBEDDINGS_DATA_PATH, 'w') as f:\n",
    "    json_serializable = {\n",
    "        file_name: embedding.tolist() \n",
    "        for file_name, embedding in file_name_to_original_text_embeddings.items()}\n",
    "    json.dump(json_serializable, f)"
   ]
  },
  {
   "cell_type": "code",
   "execution_count": 17,
   "metadata": {},
   "outputs": [],
   "source": [
    "# Saving the decompressed text embeddings\n",
    "GPT4_DECOMPRESSED_EMBEDDINGS_DATA_PATH = BASE_FILE_PATH.format(data_type=\"decompressed_embeddings\")\n",
    "with open(GPT4_DECOMPRESSED_EMBEDDINGS_DATA_PATH, 'w') as f:\n",
    "    json_serializable = {\n",
    "        file_name: embedding.tolist() \n",
    "        for file_name, embedding in file_name_to_chatGPT4_decompressed_text_embeddings.items()}\n",
    "    json.dump(json_serializable, f)"
   ]
  },
  {
   "attachments": {},
   "cell_type": "markdown",
   "metadata": {},
   "source": [
    "### Applying Burrows-Wheeler Transform"
   ]
  },
  {
   "cell_type": "code",
   "execution_count": 18,
   "metadata": {},
   "outputs": [],
   "source": [
    "file_name_to_zlib_most_compressed_bytes: Dict[str, str] = {}\n",
    "file_name_to_zlib_most_decompressed_text: Dict[str, str] = {}\n",
    "for file_name, original_text in file_name_to_original_text.items():\n",
    "    compressed_bytes = zlib.compress(original_text.encode('utf-8'), level=9)\n",
    "    file_name_to_zlib_most_compressed_bytes[file_name] = compressed_bytes\n",
    "    file_name_to_zlib_most_decompressed_text[file_name] = zlib.decompress(compressed_bytes).decode('utf-8')"
   ]
  },
  {
   "cell_type": "code",
   "execution_count": 19,
   "metadata": {},
   "outputs": [],
   "source": [
    "file_name_to_zlib_least_compressed_bytes: Dict[str, str] = {}\n",
    "file_name_to_zlib_least_decompressed_text: Dict[str, str] = {}\n",
    "for file_name, original_text in file_name_to_original_text.items():\n",
    "    compressed_bytes = zlib.compress(original_text.encode('utf-8'), level=1)\n",
    "    file_name_to_zlib_least_compressed_bytes[file_name] = compressed_bytes\n",
    "    file_name_to_zlib_least_decompressed_text[file_name] = zlib.decompress(compressed_bytes).decode('utf-8')"
   ]
  },
  {
   "attachments": {},
   "cell_type": "markdown",
   "metadata": {},
   "source": [
    "### Computing Entropy"
   ]
  },
  {
   "cell_type": "code",
   "execution_count": 20,
   "metadata": {},
   "outputs": [],
   "source": [
    "file_name_to_chatGPT4_compressed_bytes = {\n",
    "    file_name: compressed_text.encode('utf-8')\n",
    "    for file_name, compressed_text in file_name_to_chatGPT4_compressed_text.items()}"
   ]
  },
  {
   "cell_type": "code",
   "execution_count": 21,
   "metadata": {},
   "outputs": [],
   "source": [
    "# ChatGPT4 Entropy\n",
    "file_name_to_chatGPT4_compressed_bytes_entropy = {\n",
    "    file_name: functions.entropy(str(compressed_bytes))\n",
    "    for file_name, compressed_bytes in file_name_to_chatGPT4_compressed_bytes.items()}"
   ]
  },
  {
   "cell_type": "code",
   "execution_count": 22,
   "metadata": {},
   "outputs": [],
   "source": [
    "# zlib Most Compressed Entropy\n",
    "file_name_to_zlib_most_compressed_bytes_entropy = {\n",
    "    file_name: functions.entropy(str(compressed_bytes))\n",
    "    for file_name, compressed_bytes in file_name_to_zlib_most_compressed_bytes.items()}"
   ]
  },
  {
   "cell_type": "code",
   "execution_count": 23,
   "metadata": {},
   "outputs": [],
   "source": [
    "# zlib Most Lease Entropy\n",
    "file_name_to_zlib_least_compressed_bytes_entropy = {\n",
    "    file_name: functions.entropy(str(compressed_bytes))\n",
    "    for file_name, compressed_bytes in file_name_to_zlib_least_compressed_bytes.items()}"
   ]
  },
  {
   "cell_type": "markdown",
   "metadata": {},
   "source": [
    "### Saving Entropy Data"
   ]
  },
  {
   "cell_type": "code",
   "execution_count": 25,
   "metadata": {},
   "outputs": [],
   "source": [
    "ZLIB_MOST_COMPRESSED_DATA_PATH = \"experiment_data/zlib_most_compressed_bytes_entropy_sim.json\"\n",
    "with open(ZLIB_MOST_COMPRESSED_DATA_PATH, 'w') as f:\n",
    "    json.dump(file_name_to_zlib_most_compressed_bytes_entropy, f)"
   ]
  },
  {
   "cell_type": "code",
   "execution_count": 26,
   "metadata": {},
   "outputs": [],
   "source": [
    "ZLIB_LEAST_COMPRESSED_DATA_PATH = \"experiment_data/zlib_least_compressed_bytes_entropy_sim.json\"\n",
    "with open(ZLIB_LEAST_COMPRESSED_DATA_PATH, 'w') as f:\n",
    "    json.dump(file_name_to_zlib_least_compressed_bytes_entropy, f)"
   ]
  },
  {
   "attachments": {},
   "cell_type": "markdown",
   "metadata": {},
   "source": [
    "### Graphing Entropy"
   ]
  },
  {
   "cell_type": "code",
   "execution_count": 27,
   "metadata": {},
   "outputs": [],
   "source": [
    "# Graph a stacked bar chart of the entropy of the compressed bytes\n",
    "combined_df = pd.DataFrame({\n",
    "    'ChatGPT4': file_name_to_chatGPT4_compressed_bytes_entropy,\n",
    "    'zlib Most Compressed': file_name_to_zlib_most_compressed_bytes_entropy,\n",
    "    'zlib Least Compressed': file_name_to_zlib_least_compressed_bytes_entropy,\n",
    "})\n",
    "\n",
    "# Normalize the data universally, not along the columns\n",
    "combined_df = combined_df / combined_df.max().max()"
   ]
  },
  {
   "cell_type": "code",
   "execution_count": 29,
   "metadata": {},
   "outputs": [
    {
     "ename": "ValueError",
     "evalue": "Mime type rendering requires nbformat>=4.2.0 but it is not installed",
     "output_type": "error",
     "traceback": [
      "\u001b[0;31m---------------------------------------------------------------------------\u001b[0m",
      "\u001b[0;31mValueError\u001b[0m                                Traceback (most recent call last)",
      "File \u001b[0;32m/opt/homebrew/Caskroom/miniforge/base/envs/fflm_2023/lib/python3.12/site-packages/IPython/core/formatters.py:922\u001b[0m, in \u001b[0;36mIPythonDisplayFormatter.__call__\u001b[0;34m(self, obj)\u001b[0m\n\u001b[1;32m    920\u001b[0m method \u001b[39m=\u001b[39m get_real_method(obj, \u001b[39mself\u001b[39m\u001b[39m.\u001b[39mprint_method)\n\u001b[1;32m    921\u001b[0m \u001b[39mif\u001b[39;00m method \u001b[39mis\u001b[39;00m \u001b[39mnot\u001b[39;00m \u001b[39mNone\u001b[39;00m:\n\u001b[0;32m--> 922\u001b[0m     method()\n\u001b[1;32m    923\u001b[0m     \u001b[39mreturn\u001b[39;00m \u001b[39mTrue\u001b[39;00m\n",
      "File \u001b[0;32m/opt/homebrew/Caskroom/miniforge/base/envs/fflm_2023/lib/python3.12/site-packages/plotly/basedatatypes.py:832\u001b[0m, in \u001b[0;36mBaseFigure._ipython_display_\u001b[0;34m(self)\u001b[0m\n\u001b[1;32m    829\u001b[0m \u001b[39mimport\u001b[39;00m \u001b[39mplotly\u001b[39;00m\u001b[39m.\u001b[39;00m\u001b[39mio\u001b[39;00m \u001b[39mas\u001b[39;00m \u001b[39mpio\u001b[39;00m\n\u001b[1;32m    831\u001b[0m \u001b[39mif\u001b[39;00m pio\u001b[39m.\u001b[39mrenderers\u001b[39m.\u001b[39mrender_on_display \u001b[39mand\u001b[39;00m pio\u001b[39m.\u001b[39mrenderers\u001b[39m.\u001b[39mdefault:\n\u001b[0;32m--> 832\u001b[0m     pio\u001b[39m.\u001b[39;49mshow(\u001b[39mself\u001b[39;49m)\n\u001b[1;32m    833\u001b[0m \u001b[39melse\u001b[39;00m:\n\u001b[1;32m    834\u001b[0m     \u001b[39mprint\u001b[39m(\u001b[39mrepr\u001b[39m(\u001b[39mself\u001b[39m))\n",
      "File \u001b[0;32m/opt/homebrew/Caskroom/miniforge/base/envs/fflm_2023/lib/python3.12/site-packages/plotly/io/_renderers.py:394\u001b[0m, in \u001b[0;36mshow\u001b[0;34m(fig, renderer, validate, **kwargs)\u001b[0m\n\u001b[1;32m    389\u001b[0m         \u001b[39mraise\u001b[39;00m \u001b[39mValueError\u001b[39;00m(\n\u001b[1;32m    390\u001b[0m             \u001b[39m\"\u001b[39m\u001b[39mMime type rendering requires ipython but it is not installed\u001b[39m\u001b[39m\"\u001b[39m\n\u001b[1;32m    391\u001b[0m         )\n\u001b[1;32m    393\u001b[0m     \u001b[39mif\u001b[39;00m \u001b[39mnot\u001b[39;00m nbformat \u001b[39mor\u001b[39;00m Version(nbformat\u001b[39m.\u001b[39m__version__) \u001b[39m<\u001b[39m Version(\u001b[39m\"\u001b[39m\u001b[39m4.2.0\u001b[39m\u001b[39m\"\u001b[39m):\n\u001b[0;32m--> 394\u001b[0m         \u001b[39mraise\u001b[39;00m \u001b[39mValueError\u001b[39;00m(\n\u001b[1;32m    395\u001b[0m             \u001b[39m\"\u001b[39m\u001b[39mMime type rendering requires nbformat>=4.2.0 but it is not installed\u001b[39m\u001b[39m\"\u001b[39m\n\u001b[1;32m    396\u001b[0m         )\n\u001b[1;32m    398\u001b[0m     ipython_display\u001b[39m.\u001b[39mdisplay(bundle, raw\u001b[39m=\u001b[39m\u001b[39mTrue\u001b[39;00m)\n\u001b[1;32m    400\u001b[0m \u001b[39m# external renderers\u001b[39;00m\n",
      "\u001b[0;31mValueError\u001b[0m: Mime type rendering requires nbformat>=4.2.0 but it is not installed"
     ]
    },
    {
     "data": {
      "application/vnd.plotly.v1+json": {
       "config": {
        "plotlyServerURL": "https://plot.ly"
       },
       "data": [
        {
         "alignmentgroup": "True",
         "hovertemplate": "Compression Method=ChatGPT4<br>Text=%{x}<br>Entropy=%{y}<extra></extra>",
         "legendgroup": "ChatGPT4",
         "marker": {
          "color": "#636efa",
          "pattern": {
           "shape": ""
          }
         },
         "name": "ChatGPT4",
         "offsetgroup": "ChatGPT4",
         "orientation": "v",
         "showlegend": true,
         "textposition": "auto",
         "type": "bar",
         "x": [
          "a_good_man_is_hard_to_find.txt",
          "break_it_down.txt",
          "cat_person.txt",
          "cathedral.txt",
          "flowers_for_algernon.txt",
          "sticks.txt",
          "symbols_and_signs.txt",
          "the_bogey_beast.txt",
          "the_lottery.txt",
          "the_veldt.txt"
         ],
         "xaxis": "x",
         "y": [
          0.9534875510929117,
          0.9008599686670914,
          0.9125689249583909,
          0.9221571192261244,
          0.9923206928520909,
          1,
          0.9768418414359642,
          0.8264788189622994,
          0.8761307841683217,
          0.9667923421886079
         ],
         "yaxis": "y"
        },
        {
         "alignmentgroup": "True",
         "hovertemplate": "Compression Method=zlib Most Compressed<br>Text=%{x}<br>Entropy=%{y}<extra></extra>",
         "legendgroup": "zlib Most Compressed",
         "marker": {
          "color": "#EF553B",
          "pattern": {
           "shape": ""
          }
         },
         "name": "zlib Most Compressed",
         "offsetgroup": "zlib Most Compressed",
         "orientation": "v",
         "showlegend": true,
         "textposition": "auto",
         "type": "bar",
         "x": [
          "a_good_man_is_hard_to_find.txt",
          "break_it_down.txt",
          "cat_person.txt",
          "cathedral.txt",
          "flowers_for_algernon.txt",
          "sticks.txt",
          "symbols_and_signs.txt",
          "the_bogey_beast.txt",
          "the_lottery.txt",
          "the_veldt.txt"
         ],
         "xaxis": "x",
         "y": [
          0.8379245180689876,
          0.8509807657458721,
          0.8533008204485228,
          0.8282793594981167,
          0.8249625109882068,
          0.8381736127515607,
          0.8273643643883981,
          0.8303607496132731,
          0.8387451064619467,
          0.8427553184195337
         ],
         "yaxis": "y"
        },
        {
         "alignmentgroup": "True",
         "hovertemplate": "Compression Method=zlib Least Compressed<br>Text=%{x}<br>Entropy=%{y}<extra></extra>",
         "legendgroup": "zlib Least Compressed",
         "marker": {
          "color": "#00cc96",
          "pattern": {
           "shape": ""
          }
         },
         "name": "zlib Least Compressed",
         "offsetgroup": "zlib Least Compressed",
         "orientation": "v",
         "showlegend": true,
         "textposition": "auto",
         "type": "bar",
         "x": [
          "a_good_man_is_hard_to_find.txt",
          "break_it_down.txt",
          "cat_person.txt",
          "cathedral.txt",
          "flowers_for_algernon.txt",
          "sticks.txt",
          "symbols_and_signs.txt",
          "the_bogey_beast.txt",
          "the_lottery.txt",
          "the_veldt.txt"
         ],
         "xaxis": "x",
         "y": [
          0.8400441523390457,
          0.8290945659508341,
          0.818242305250848,
          0.8513320840717983,
          0.8311328292044144,
          0.826644656594641,
          0.8378817354522422,
          0.8453389832898505,
          0.8469881206932017,
          0.8537744042424829
         ],
         "yaxis": "y"
        }
       ],
       "layout": {
        "barmode": "group",
        "legend": {
         "title": {
          "text": "Compression Method"
         },
         "tracegroupgap": 0
        },
        "template": {
         "data": {
          "bar": [
           {
            "error_x": {
             "color": "#2a3f5f"
            },
            "error_y": {
             "color": "#2a3f5f"
            },
            "marker": {
             "line": {
              "color": "#E5ECF6",
              "width": 0.5
             },
             "pattern": {
              "fillmode": "overlay",
              "size": 10,
              "solidity": 0.2
             }
            },
            "type": "bar"
           }
          ],
          "barpolar": [
           {
            "marker": {
             "line": {
              "color": "#E5ECF6",
              "width": 0.5
             },
             "pattern": {
              "fillmode": "overlay",
              "size": 10,
              "solidity": 0.2
             }
            },
            "type": "barpolar"
           }
          ],
          "carpet": [
           {
            "aaxis": {
             "endlinecolor": "#2a3f5f",
             "gridcolor": "white",
             "linecolor": "white",
             "minorgridcolor": "white",
             "startlinecolor": "#2a3f5f"
            },
            "baxis": {
             "endlinecolor": "#2a3f5f",
             "gridcolor": "white",
             "linecolor": "white",
             "minorgridcolor": "white",
             "startlinecolor": "#2a3f5f"
            },
            "type": "carpet"
           }
          ],
          "choropleth": [
           {
            "colorbar": {
             "outlinewidth": 0,
             "ticks": ""
            },
            "type": "choropleth"
           }
          ],
          "contour": [
           {
            "colorbar": {
             "outlinewidth": 0,
             "ticks": ""
            },
            "colorscale": [
             [
              0,
              "#0d0887"
             ],
             [
              0.1111111111111111,
              "#46039f"
             ],
             [
              0.2222222222222222,
              "#7201a8"
             ],
             [
              0.3333333333333333,
              "#9c179e"
             ],
             [
              0.4444444444444444,
              "#bd3786"
             ],
             [
              0.5555555555555556,
              "#d8576b"
             ],
             [
              0.6666666666666666,
              "#ed7953"
             ],
             [
              0.7777777777777778,
              "#fb9f3a"
             ],
             [
              0.8888888888888888,
              "#fdca26"
             ],
             [
              1,
              "#f0f921"
             ]
            ],
            "type": "contour"
           }
          ],
          "contourcarpet": [
           {
            "colorbar": {
             "outlinewidth": 0,
             "ticks": ""
            },
            "type": "contourcarpet"
           }
          ],
          "heatmap": [
           {
            "colorbar": {
             "outlinewidth": 0,
             "ticks": ""
            },
            "colorscale": [
             [
              0,
              "#0d0887"
             ],
             [
              0.1111111111111111,
              "#46039f"
             ],
             [
              0.2222222222222222,
              "#7201a8"
             ],
             [
              0.3333333333333333,
              "#9c179e"
             ],
             [
              0.4444444444444444,
              "#bd3786"
             ],
             [
              0.5555555555555556,
              "#d8576b"
             ],
             [
              0.6666666666666666,
              "#ed7953"
             ],
             [
              0.7777777777777778,
              "#fb9f3a"
             ],
             [
              0.8888888888888888,
              "#fdca26"
             ],
             [
              1,
              "#f0f921"
             ]
            ],
            "type": "heatmap"
           }
          ],
          "heatmapgl": [
           {
            "colorbar": {
             "outlinewidth": 0,
             "ticks": ""
            },
            "colorscale": [
             [
              0,
              "#0d0887"
             ],
             [
              0.1111111111111111,
              "#46039f"
             ],
             [
              0.2222222222222222,
              "#7201a8"
             ],
             [
              0.3333333333333333,
              "#9c179e"
             ],
             [
              0.4444444444444444,
              "#bd3786"
             ],
             [
              0.5555555555555556,
              "#d8576b"
             ],
             [
              0.6666666666666666,
              "#ed7953"
             ],
             [
              0.7777777777777778,
              "#fb9f3a"
             ],
             [
              0.8888888888888888,
              "#fdca26"
             ],
             [
              1,
              "#f0f921"
             ]
            ],
            "type": "heatmapgl"
           }
          ],
          "histogram": [
           {
            "marker": {
             "pattern": {
              "fillmode": "overlay",
              "size": 10,
              "solidity": 0.2
             }
            },
            "type": "histogram"
           }
          ],
          "histogram2d": [
           {
            "colorbar": {
             "outlinewidth": 0,
             "ticks": ""
            },
            "colorscale": [
             [
              0,
              "#0d0887"
             ],
             [
              0.1111111111111111,
              "#46039f"
             ],
             [
              0.2222222222222222,
              "#7201a8"
             ],
             [
              0.3333333333333333,
              "#9c179e"
             ],
             [
              0.4444444444444444,
              "#bd3786"
             ],
             [
              0.5555555555555556,
              "#d8576b"
             ],
             [
              0.6666666666666666,
              "#ed7953"
             ],
             [
              0.7777777777777778,
              "#fb9f3a"
             ],
             [
              0.8888888888888888,
              "#fdca26"
             ],
             [
              1,
              "#f0f921"
             ]
            ],
            "type": "histogram2d"
           }
          ],
          "histogram2dcontour": [
           {
            "colorbar": {
             "outlinewidth": 0,
             "ticks": ""
            },
            "colorscale": [
             [
              0,
              "#0d0887"
             ],
             [
              0.1111111111111111,
              "#46039f"
             ],
             [
              0.2222222222222222,
              "#7201a8"
             ],
             [
              0.3333333333333333,
              "#9c179e"
             ],
             [
              0.4444444444444444,
              "#bd3786"
             ],
             [
              0.5555555555555556,
              "#d8576b"
             ],
             [
              0.6666666666666666,
              "#ed7953"
             ],
             [
              0.7777777777777778,
              "#fb9f3a"
             ],
             [
              0.8888888888888888,
              "#fdca26"
             ],
             [
              1,
              "#f0f921"
             ]
            ],
            "type": "histogram2dcontour"
           }
          ],
          "mesh3d": [
           {
            "colorbar": {
             "outlinewidth": 0,
             "ticks": ""
            },
            "type": "mesh3d"
           }
          ],
          "parcoords": [
           {
            "line": {
             "colorbar": {
              "outlinewidth": 0,
              "ticks": ""
             }
            },
            "type": "parcoords"
           }
          ],
          "pie": [
           {
            "automargin": true,
            "type": "pie"
           }
          ],
          "scatter": [
           {
            "fillpattern": {
             "fillmode": "overlay",
             "size": 10,
             "solidity": 0.2
            },
            "type": "scatter"
           }
          ],
          "scatter3d": [
           {
            "line": {
             "colorbar": {
              "outlinewidth": 0,
              "ticks": ""
             }
            },
            "marker": {
             "colorbar": {
              "outlinewidth": 0,
              "ticks": ""
             }
            },
            "type": "scatter3d"
           }
          ],
          "scattercarpet": [
           {
            "marker": {
             "colorbar": {
              "outlinewidth": 0,
              "ticks": ""
             }
            },
            "type": "scattercarpet"
           }
          ],
          "scattergeo": [
           {
            "marker": {
             "colorbar": {
              "outlinewidth": 0,
              "ticks": ""
             }
            },
            "type": "scattergeo"
           }
          ],
          "scattergl": [
           {
            "marker": {
             "colorbar": {
              "outlinewidth": 0,
              "ticks": ""
             }
            },
            "type": "scattergl"
           }
          ],
          "scattermapbox": [
           {
            "marker": {
             "colorbar": {
              "outlinewidth": 0,
              "ticks": ""
             }
            },
            "type": "scattermapbox"
           }
          ],
          "scatterpolar": [
           {
            "marker": {
             "colorbar": {
              "outlinewidth": 0,
              "ticks": ""
             }
            },
            "type": "scatterpolar"
           }
          ],
          "scatterpolargl": [
           {
            "marker": {
             "colorbar": {
              "outlinewidth": 0,
              "ticks": ""
             }
            },
            "type": "scatterpolargl"
           }
          ],
          "scatterternary": [
           {
            "marker": {
             "colorbar": {
              "outlinewidth": 0,
              "ticks": ""
             }
            },
            "type": "scatterternary"
           }
          ],
          "surface": [
           {
            "colorbar": {
             "outlinewidth": 0,
             "ticks": ""
            },
            "colorscale": [
             [
              0,
              "#0d0887"
             ],
             [
              0.1111111111111111,
              "#46039f"
             ],
             [
              0.2222222222222222,
              "#7201a8"
             ],
             [
              0.3333333333333333,
              "#9c179e"
             ],
             [
              0.4444444444444444,
              "#bd3786"
             ],
             [
              0.5555555555555556,
              "#d8576b"
             ],
             [
              0.6666666666666666,
              "#ed7953"
             ],
             [
              0.7777777777777778,
              "#fb9f3a"
             ],
             [
              0.8888888888888888,
              "#fdca26"
             ],
             [
              1,
              "#f0f921"
             ]
            ],
            "type": "surface"
           }
          ],
          "table": [
           {
            "cells": {
             "fill": {
              "color": "#EBF0F8"
             },
             "line": {
              "color": "white"
             }
            },
            "header": {
             "fill": {
              "color": "#C8D4E3"
             },
             "line": {
              "color": "white"
             }
            },
            "type": "table"
           }
          ]
         },
         "layout": {
          "annotationdefaults": {
           "arrowcolor": "#2a3f5f",
           "arrowhead": 0,
           "arrowwidth": 1
          },
          "autotypenumbers": "strict",
          "coloraxis": {
           "colorbar": {
            "outlinewidth": 0,
            "ticks": ""
           }
          },
          "colorscale": {
           "diverging": [
            [
             0,
             "#8e0152"
            ],
            [
             0.1,
             "#c51b7d"
            ],
            [
             0.2,
             "#de77ae"
            ],
            [
             0.3,
             "#f1b6da"
            ],
            [
             0.4,
             "#fde0ef"
            ],
            [
             0.5,
             "#f7f7f7"
            ],
            [
             0.6,
             "#e6f5d0"
            ],
            [
             0.7,
             "#b8e186"
            ],
            [
             0.8,
             "#7fbc41"
            ],
            [
             0.9,
             "#4d9221"
            ],
            [
             1,
             "#276419"
            ]
           ],
           "sequential": [
            [
             0,
             "#0d0887"
            ],
            [
             0.1111111111111111,
             "#46039f"
            ],
            [
             0.2222222222222222,
             "#7201a8"
            ],
            [
             0.3333333333333333,
             "#9c179e"
            ],
            [
             0.4444444444444444,
             "#bd3786"
            ],
            [
             0.5555555555555556,
             "#d8576b"
            ],
            [
             0.6666666666666666,
             "#ed7953"
            ],
            [
             0.7777777777777778,
             "#fb9f3a"
            ],
            [
             0.8888888888888888,
             "#fdca26"
            ],
            [
             1,
             "#f0f921"
            ]
           ],
           "sequentialminus": [
            [
             0,
             "#0d0887"
            ],
            [
             0.1111111111111111,
             "#46039f"
            ],
            [
             0.2222222222222222,
             "#7201a8"
            ],
            [
             0.3333333333333333,
             "#9c179e"
            ],
            [
             0.4444444444444444,
             "#bd3786"
            ],
            [
             0.5555555555555556,
             "#d8576b"
            ],
            [
             0.6666666666666666,
             "#ed7953"
            ],
            [
             0.7777777777777778,
             "#fb9f3a"
            ],
            [
             0.8888888888888888,
             "#fdca26"
            ],
            [
             1,
             "#f0f921"
            ]
           ]
          },
          "colorway": [
           "#636efa",
           "#EF553B",
           "#00cc96",
           "#ab63fa",
           "#FFA15A",
           "#19d3f3",
           "#FF6692",
           "#B6E880",
           "#FF97FF",
           "#FECB52"
          ],
          "font": {
           "color": "#2a3f5f"
          },
          "geo": {
           "bgcolor": "white",
           "lakecolor": "white",
           "landcolor": "#E5ECF6",
           "showlakes": true,
           "showland": true,
           "subunitcolor": "white"
          },
          "hoverlabel": {
           "align": "left"
          },
          "hovermode": "closest",
          "mapbox": {
           "style": "light"
          },
          "paper_bgcolor": "white",
          "plot_bgcolor": "#E5ECF6",
          "polar": {
           "angularaxis": {
            "gridcolor": "white",
            "linecolor": "white",
            "ticks": ""
           },
           "bgcolor": "#E5ECF6",
           "radialaxis": {
            "gridcolor": "white",
            "linecolor": "white",
            "ticks": ""
           }
          },
          "scene": {
           "xaxis": {
            "backgroundcolor": "#E5ECF6",
            "gridcolor": "white",
            "gridwidth": 2,
            "linecolor": "white",
            "showbackground": true,
            "ticks": "",
            "zerolinecolor": "white"
           },
           "yaxis": {
            "backgroundcolor": "#E5ECF6",
            "gridcolor": "white",
            "gridwidth": 2,
            "linecolor": "white",
            "showbackground": true,
            "ticks": "",
            "zerolinecolor": "white"
           },
           "zaxis": {
            "backgroundcolor": "#E5ECF6",
            "gridcolor": "white",
            "gridwidth": 2,
            "linecolor": "white",
            "showbackground": true,
            "ticks": "",
            "zerolinecolor": "white"
           }
          },
          "shapedefaults": {
           "line": {
            "color": "#2a3f5f"
           }
          },
          "ternary": {
           "aaxis": {
            "gridcolor": "white",
            "linecolor": "white",
            "ticks": ""
           },
           "baxis": {
            "gridcolor": "white",
            "linecolor": "white",
            "ticks": ""
           },
           "bgcolor": "#E5ECF6",
           "caxis": {
            "gridcolor": "white",
            "linecolor": "white",
            "ticks": ""
           }
          },
          "title": {
           "x": 0.05
          },
          "xaxis": {
           "automargin": true,
           "gridcolor": "white",
           "linecolor": "white",
           "ticks": "",
           "title": {
            "standoff": 15
           },
           "zerolinecolor": "white",
           "zerolinewidth": 2
          },
          "yaxis": {
           "automargin": true,
           "gridcolor": "white",
           "linecolor": "white",
           "ticks": "",
           "title": {
            "standoff": 15
           },
           "zerolinecolor": "white",
           "zerolinewidth": 2
          }
         }
        },
        "title": {
         "text": "Relative Entropy of Compressed Bytes"
        },
        "xaxis": {
         "anchor": "y",
         "domain": [
          0,
          1
         ],
         "title": {
          "text": "Text"
         }
        },
        "yaxis": {
         "anchor": "x",
         "domain": [
          0,
          1
         ],
         "title": {
          "text": "Entropy"
         }
        }
       }
      },
      "text/html": [
       "<div>                        <script type=\"text/javascript\">window.PlotlyConfig = {MathJaxConfig: 'local'};</script>\n",
       "        <script charset=\"utf-8\" src=\"https://cdn.plot.ly/plotly-2.27.0.min.js\"></script>                <div id=\"b8e3ed7d-3b59-4131-8991-bc1fc9db4e55\" class=\"plotly-graph-div\" style=\"height:100%; width:100%;\"></div>            <script type=\"text/javascript\">                                    window.PLOTLYENV=window.PLOTLYENV || {};                                    if (document.getElementById(\"b8e3ed7d-3b59-4131-8991-bc1fc9db4e55\")) {                    Plotly.newPlot(                        \"b8e3ed7d-3b59-4131-8991-bc1fc9db4e55\",                        [{\"alignmentgroup\":\"True\",\"hovertemplate\":\"Compression Method=ChatGPT4\\u003cbr\\u003eText=%{x}\\u003cbr\\u003eEntropy=%{y}\\u003cextra\\u003e\\u003c\\u002fextra\\u003e\",\"legendgroup\":\"ChatGPT4\",\"marker\":{\"color\":\"#636efa\",\"pattern\":{\"shape\":\"\"}},\"name\":\"ChatGPT4\",\"offsetgroup\":\"ChatGPT4\",\"orientation\":\"v\",\"showlegend\":true,\"textposition\":\"auto\",\"x\":[\"a_good_man_is_hard_to_find.txt\",\"break_it_down.txt\",\"cat_person.txt\",\"cathedral.txt\",\"flowers_for_algernon.txt\",\"sticks.txt\",\"symbols_and_signs.txt\",\"the_bogey_beast.txt\",\"the_lottery.txt\",\"the_veldt.txt\"],\"xaxis\":\"x\",\"y\":[0.9534875510929117,0.9008599686670914,0.9125689249583909,0.9221571192261244,0.9923206928520909,1.0,0.9768418414359642,0.8264788189622994,0.8761307841683217,0.9667923421886079],\"yaxis\":\"y\",\"type\":\"bar\"},{\"alignmentgroup\":\"True\",\"hovertemplate\":\"Compression Method=zlib Most Compressed\\u003cbr\\u003eText=%{x}\\u003cbr\\u003eEntropy=%{y}\\u003cextra\\u003e\\u003c\\u002fextra\\u003e\",\"legendgroup\":\"zlib Most Compressed\",\"marker\":{\"color\":\"#EF553B\",\"pattern\":{\"shape\":\"\"}},\"name\":\"zlib Most Compressed\",\"offsetgroup\":\"zlib Most Compressed\",\"orientation\":\"v\",\"showlegend\":true,\"textposition\":\"auto\",\"x\":[\"a_good_man_is_hard_to_find.txt\",\"break_it_down.txt\",\"cat_person.txt\",\"cathedral.txt\",\"flowers_for_algernon.txt\",\"sticks.txt\",\"symbols_and_signs.txt\",\"the_bogey_beast.txt\",\"the_lottery.txt\",\"the_veldt.txt\"],\"xaxis\":\"x\",\"y\":[0.8379245180689876,0.8509807657458721,0.8533008204485228,0.8282793594981167,0.8249625109882068,0.8381736127515607,0.8273643643883981,0.8303607496132731,0.8387451064619467,0.8427553184195337],\"yaxis\":\"y\",\"type\":\"bar\"},{\"alignmentgroup\":\"True\",\"hovertemplate\":\"Compression Method=zlib Least Compressed\\u003cbr\\u003eText=%{x}\\u003cbr\\u003eEntropy=%{y}\\u003cextra\\u003e\\u003c\\u002fextra\\u003e\",\"legendgroup\":\"zlib Least Compressed\",\"marker\":{\"color\":\"#00cc96\",\"pattern\":{\"shape\":\"\"}},\"name\":\"zlib Least Compressed\",\"offsetgroup\":\"zlib Least Compressed\",\"orientation\":\"v\",\"showlegend\":true,\"textposition\":\"auto\",\"x\":[\"a_good_man_is_hard_to_find.txt\",\"break_it_down.txt\",\"cat_person.txt\",\"cathedral.txt\",\"flowers_for_algernon.txt\",\"sticks.txt\",\"symbols_and_signs.txt\",\"the_bogey_beast.txt\",\"the_lottery.txt\",\"the_veldt.txt\"],\"xaxis\":\"x\",\"y\":[0.8400441523390457,0.8290945659508341,0.818242305250848,0.8513320840717983,0.8311328292044144,0.826644656594641,0.8378817354522422,0.8453389832898505,0.8469881206932017,0.8537744042424829],\"yaxis\":\"y\",\"type\":\"bar\"}],                        {\"template\":{\"data\":{\"histogram2dcontour\":[{\"type\":\"histogram2dcontour\",\"colorbar\":{\"outlinewidth\":0,\"ticks\":\"\"},\"colorscale\":[[0.0,\"#0d0887\"],[0.1111111111111111,\"#46039f\"],[0.2222222222222222,\"#7201a8\"],[0.3333333333333333,\"#9c179e\"],[0.4444444444444444,\"#bd3786\"],[0.5555555555555556,\"#d8576b\"],[0.6666666666666666,\"#ed7953\"],[0.7777777777777778,\"#fb9f3a\"],[0.8888888888888888,\"#fdca26\"],[1.0,\"#f0f921\"]]}],\"choropleth\":[{\"type\":\"choropleth\",\"colorbar\":{\"outlinewidth\":0,\"ticks\":\"\"}}],\"histogram2d\":[{\"type\":\"histogram2d\",\"colorbar\":{\"outlinewidth\":0,\"ticks\":\"\"},\"colorscale\":[[0.0,\"#0d0887\"],[0.1111111111111111,\"#46039f\"],[0.2222222222222222,\"#7201a8\"],[0.3333333333333333,\"#9c179e\"],[0.4444444444444444,\"#bd3786\"],[0.5555555555555556,\"#d8576b\"],[0.6666666666666666,\"#ed7953\"],[0.7777777777777778,\"#fb9f3a\"],[0.8888888888888888,\"#fdca26\"],[1.0,\"#f0f921\"]]}],\"heatmap\":[{\"type\":\"heatmap\",\"colorbar\":{\"outlinewidth\":0,\"ticks\":\"\"},\"colorscale\":[[0.0,\"#0d0887\"],[0.1111111111111111,\"#46039f\"],[0.2222222222222222,\"#7201a8\"],[0.3333333333333333,\"#9c179e\"],[0.4444444444444444,\"#bd3786\"],[0.5555555555555556,\"#d8576b\"],[0.6666666666666666,\"#ed7953\"],[0.7777777777777778,\"#fb9f3a\"],[0.8888888888888888,\"#fdca26\"],[1.0,\"#f0f921\"]]}],\"heatmapgl\":[{\"type\":\"heatmapgl\",\"colorbar\":{\"outlinewidth\":0,\"ticks\":\"\"},\"colorscale\":[[0.0,\"#0d0887\"],[0.1111111111111111,\"#46039f\"],[0.2222222222222222,\"#7201a8\"],[0.3333333333333333,\"#9c179e\"],[0.4444444444444444,\"#bd3786\"],[0.5555555555555556,\"#d8576b\"],[0.6666666666666666,\"#ed7953\"],[0.7777777777777778,\"#fb9f3a\"],[0.8888888888888888,\"#fdca26\"],[1.0,\"#f0f921\"]]}],\"contourcarpet\":[{\"type\":\"contourcarpet\",\"colorbar\":{\"outlinewidth\":0,\"ticks\":\"\"}}],\"contour\":[{\"type\":\"contour\",\"colorbar\":{\"outlinewidth\":0,\"ticks\":\"\"},\"colorscale\":[[0.0,\"#0d0887\"],[0.1111111111111111,\"#46039f\"],[0.2222222222222222,\"#7201a8\"],[0.3333333333333333,\"#9c179e\"],[0.4444444444444444,\"#bd3786\"],[0.5555555555555556,\"#d8576b\"],[0.6666666666666666,\"#ed7953\"],[0.7777777777777778,\"#fb9f3a\"],[0.8888888888888888,\"#fdca26\"],[1.0,\"#f0f921\"]]}],\"surface\":[{\"type\":\"surface\",\"colorbar\":{\"outlinewidth\":0,\"ticks\":\"\"},\"colorscale\":[[0.0,\"#0d0887\"],[0.1111111111111111,\"#46039f\"],[0.2222222222222222,\"#7201a8\"],[0.3333333333333333,\"#9c179e\"],[0.4444444444444444,\"#bd3786\"],[0.5555555555555556,\"#d8576b\"],[0.6666666666666666,\"#ed7953\"],[0.7777777777777778,\"#fb9f3a\"],[0.8888888888888888,\"#fdca26\"],[1.0,\"#f0f921\"]]}],\"mesh3d\":[{\"type\":\"mesh3d\",\"colorbar\":{\"outlinewidth\":0,\"ticks\":\"\"}}],\"scatter\":[{\"fillpattern\":{\"fillmode\":\"overlay\",\"size\":10,\"solidity\":0.2},\"type\":\"scatter\"}],\"parcoords\":[{\"type\":\"parcoords\",\"line\":{\"colorbar\":{\"outlinewidth\":0,\"ticks\":\"\"}}}],\"scatterpolargl\":[{\"type\":\"scatterpolargl\",\"marker\":{\"colorbar\":{\"outlinewidth\":0,\"ticks\":\"\"}}}],\"bar\":[{\"error_x\":{\"color\":\"#2a3f5f\"},\"error_y\":{\"color\":\"#2a3f5f\"},\"marker\":{\"line\":{\"color\":\"#E5ECF6\",\"width\":0.5},\"pattern\":{\"fillmode\":\"overlay\",\"size\":10,\"solidity\":0.2}},\"type\":\"bar\"}],\"scattergeo\":[{\"type\":\"scattergeo\",\"marker\":{\"colorbar\":{\"outlinewidth\":0,\"ticks\":\"\"}}}],\"scatterpolar\":[{\"type\":\"scatterpolar\",\"marker\":{\"colorbar\":{\"outlinewidth\":0,\"ticks\":\"\"}}}],\"histogram\":[{\"marker\":{\"pattern\":{\"fillmode\":\"overlay\",\"size\":10,\"solidity\":0.2}},\"type\":\"histogram\"}],\"scattergl\":[{\"type\":\"scattergl\",\"marker\":{\"colorbar\":{\"outlinewidth\":0,\"ticks\":\"\"}}}],\"scatter3d\":[{\"type\":\"scatter3d\",\"line\":{\"colorbar\":{\"outlinewidth\":0,\"ticks\":\"\"}},\"marker\":{\"colorbar\":{\"outlinewidth\":0,\"ticks\":\"\"}}}],\"scattermapbox\":[{\"type\":\"scattermapbox\",\"marker\":{\"colorbar\":{\"outlinewidth\":0,\"ticks\":\"\"}}}],\"scatterternary\":[{\"type\":\"scatterternary\",\"marker\":{\"colorbar\":{\"outlinewidth\":0,\"ticks\":\"\"}}}],\"scattercarpet\":[{\"type\":\"scattercarpet\",\"marker\":{\"colorbar\":{\"outlinewidth\":0,\"ticks\":\"\"}}}],\"carpet\":[{\"aaxis\":{\"endlinecolor\":\"#2a3f5f\",\"gridcolor\":\"white\",\"linecolor\":\"white\",\"minorgridcolor\":\"white\",\"startlinecolor\":\"#2a3f5f\"},\"baxis\":{\"endlinecolor\":\"#2a3f5f\",\"gridcolor\":\"white\",\"linecolor\":\"white\",\"minorgridcolor\":\"white\",\"startlinecolor\":\"#2a3f5f\"},\"type\":\"carpet\"}],\"table\":[{\"cells\":{\"fill\":{\"color\":\"#EBF0F8\"},\"line\":{\"color\":\"white\"}},\"header\":{\"fill\":{\"color\":\"#C8D4E3\"},\"line\":{\"color\":\"white\"}},\"type\":\"table\"}],\"barpolar\":[{\"marker\":{\"line\":{\"color\":\"#E5ECF6\",\"width\":0.5},\"pattern\":{\"fillmode\":\"overlay\",\"size\":10,\"solidity\":0.2}},\"type\":\"barpolar\"}],\"pie\":[{\"automargin\":true,\"type\":\"pie\"}]},\"layout\":{\"autotypenumbers\":\"strict\",\"colorway\":[\"#636efa\",\"#EF553B\",\"#00cc96\",\"#ab63fa\",\"#FFA15A\",\"#19d3f3\",\"#FF6692\",\"#B6E880\",\"#FF97FF\",\"#FECB52\"],\"font\":{\"color\":\"#2a3f5f\"},\"hovermode\":\"closest\",\"hoverlabel\":{\"align\":\"left\"},\"paper_bgcolor\":\"white\",\"plot_bgcolor\":\"#E5ECF6\",\"polar\":{\"bgcolor\":\"#E5ECF6\",\"angularaxis\":{\"gridcolor\":\"white\",\"linecolor\":\"white\",\"ticks\":\"\"},\"radialaxis\":{\"gridcolor\":\"white\",\"linecolor\":\"white\",\"ticks\":\"\"}},\"ternary\":{\"bgcolor\":\"#E5ECF6\",\"aaxis\":{\"gridcolor\":\"white\",\"linecolor\":\"white\",\"ticks\":\"\"},\"baxis\":{\"gridcolor\":\"white\",\"linecolor\":\"white\",\"ticks\":\"\"},\"caxis\":{\"gridcolor\":\"white\",\"linecolor\":\"white\",\"ticks\":\"\"}},\"coloraxis\":{\"colorbar\":{\"outlinewidth\":0,\"ticks\":\"\"}},\"colorscale\":{\"sequential\":[[0.0,\"#0d0887\"],[0.1111111111111111,\"#46039f\"],[0.2222222222222222,\"#7201a8\"],[0.3333333333333333,\"#9c179e\"],[0.4444444444444444,\"#bd3786\"],[0.5555555555555556,\"#d8576b\"],[0.6666666666666666,\"#ed7953\"],[0.7777777777777778,\"#fb9f3a\"],[0.8888888888888888,\"#fdca26\"],[1.0,\"#f0f921\"]],\"sequentialminus\":[[0.0,\"#0d0887\"],[0.1111111111111111,\"#46039f\"],[0.2222222222222222,\"#7201a8\"],[0.3333333333333333,\"#9c179e\"],[0.4444444444444444,\"#bd3786\"],[0.5555555555555556,\"#d8576b\"],[0.6666666666666666,\"#ed7953\"],[0.7777777777777778,\"#fb9f3a\"],[0.8888888888888888,\"#fdca26\"],[1.0,\"#f0f921\"]],\"diverging\":[[0,\"#8e0152\"],[0.1,\"#c51b7d\"],[0.2,\"#de77ae\"],[0.3,\"#f1b6da\"],[0.4,\"#fde0ef\"],[0.5,\"#f7f7f7\"],[0.6,\"#e6f5d0\"],[0.7,\"#b8e186\"],[0.8,\"#7fbc41\"],[0.9,\"#4d9221\"],[1,\"#276419\"]]},\"xaxis\":{\"gridcolor\":\"white\",\"linecolor\":\"white\",\"ticks\":\"\",\"title\":{\"standoff\":15},\"zerolinecolor\":\"white\",\"automargin\":true,\"zerolinewidth\":2},\"yaxis\":{\"gridcolor\":\"white\",\"linecolor\":\"white\",\"ticks\":\"\",\"title\":{\"standoff\":15},\"zerolinecolor\":\"white\",\"automargin\":true,\"zerolinewidth\":2},\"scene\":{\"xaxis\":{\"backgroundcolor\":\"#E5ECF6\",\"gridcolor\":\"white\",\"linecolor\":\"white\",\"showbackground\":true,\"ticks\":\"\",\"zerolinecolor\":\"white\",\"gridwidth\":2},\"yaxis\":{\"backgroundcolor\":\"#E5ECF6\",\"gridcolor\":\"white\",\"linecolor\":\"white\",\"showbackground\":true,\"ticks\":\"\",\"zerolinecolor\":\"white\",\"gridwidth\":2},\"zaxis\":{\"backgroundcolor\":\"#E5ECF6\",\"gridcolor\":\"white\",\"linecolor\":\"white\",\"showbackground\":true,\"ticks\":\"\",\"zerolinecolor\":\"white\",\"gridwidth\":2}},\"shapedefaults\":{\"line\":{\"color\":\"#2a3f5f\"}},\"annotationdefaults\":{\"arrowcolor\":\"#2a3f5f\",\"arrowhead\":0,\"arrowwidth\":1},\"geo\":{\"bgcolor\":\"white\",\"landcolor\":\"#E5ECF6\",\"subunitcolor\":\"white\",\"showland\":true,\"showlakes\":true,\"lakecolor\":\"white\"},\"title\":{\"x\":0.05},\"mapbox\":{\"style\":\"light\"}}},\"xaxis\":{\"anchor\":\"y\",\"domain\":[0.0,1.0],\"title\":{\"text\":\"Text\"}},\"yaxis\":{\"anchor\":\"x\",\"domain\":[0.0,1.0],\"title\":{\"text\":\"Entropy\"}},\"legend\":{\"title\":{\"text\":\"Compression Method\"},\"tracegroupgap\":0},\"title\":{\"text\":\"Relative Entropy of Compressed Bytes\"},\"barmode\":\"group\"},                        {\"responsive\": true}                    )                };                            </script>        </div>"
      ],
      "text/plain": [
       "Figure({\n",
       "    'data': [{'alignmentgroup': 'True',\n",
       "              'hovertemplate': 'Compression Method=ChatGPT4<br>Text=%{x}<br>Entropy=%{y}<extra></extra>',\n",
       "              'legendgroup': 'ChatGPT4',\n",
       "              'marker': {'color': '#636efa', 'pattern': {'shape': ''}},\n",
       "              'name': 'ChatGPT4',\n",
       "              'offsetgroup': 'ChatGPT4',\n",
       "              'orientation': 'v',\n",
       "              'showlegend': True,\n",
       "              'textposition': 'auto',\n",
       "              'type': 'bar',\n",
       "              'x': array(['a_good_man_is_hard_to_find.txt', 'break_it_down.txt', 'cat_person.txt',\n",
       "                          'cathedral.txt', 'flowers_for_algernon.txt', 'sticks.txt',\n",
       "                          'symbols_and_signs.txt', 'the_bogey_beast.txt', 'the_lottery.txt',\n",
       "                          'the_veldt.txt'], dtype=object),\n",
       "              'xaxis': 'x',\n",
       "              'y': array([0.95348755, 0.90085997, 0.91256892, 0.92215712, 0.99232069, 1.        ,\n",
       "                          0.97684184, 0.82647882, 0.87613078, 0.96679234]),\n",
       "              'yaxis': 'y'},\n",
       "             {'alignmentgroup': 'True',\n",
       "              'hovertemplate': ('Compression Method=zlib Most C' ... 'br>Entropy=%{y}<extra></extra>'),\n",
       "              'legendgroup': 'zlib Most Compressed',\n",
       "              'marker': {'color': '#EF553B', 'pattern': {'shape': ''}},\n",
       "              'name': 'zlib Most Compressed',\n",
       "              'offsetgroup': 'zlib Most Compressed',\n",
       "              'orientation': 'v',\n",
       "              'showlegend': True,\n",
       "              'textposition': 'auto',\n",
       "              'type': 'bar',\n",
       "              'x': array(['a_good_man_is_hard_to_find.txt', 'break_it_down.txt', 'cat_person.txt',\n",
       "                          'cathedral.txt', 'flowers_for_algernon.txt', 'sticks.txt',\n",
       "                          'symbols_and_signs.txt', 'the_bogey_beast.txt', 'the_lottery.txt',\n",
       "                          'the_veldt.txt'], dtype=object),\n",
       "              'xaxis': 'x',\n",
       "              'y': array([0.83792452, 0.85098077, 0.85330082, 0.82827936, 0.82496251, 0.83817361,\n",
       "                          0.82736436, 0.83036075, 0.83874511, 0.84275532]),\n",
       "              'yaxis': 'y'},\n",
       "             {'alignmentgroup': 'True',\n",
       "              'hovertemplate': ('Compression Method=zlib Least ' ... 'br>Entropy=%{y}<extra></extra>'),\n",
       "              'legendgroup': 'zlib Least Compressed',\n",
       "              'marker': {'color': '#00cc96', 'pattern': {'shape': ''}},\n",
       "              'name': 'zlib Least Compressed',\n",
       "              'offsetgroup': 'zlib Least Compressed',\n",
       "              'orientation': 'v',\n",
       "              'showlegend': True,\n",
       "              'textposition': 'auto',\n",
       "              'type': 'bar',\n",
       "              'x': array(['a_good_man_is_hard_to_find.txt', 'break_it_down.txt', 'cat_person.txt',\n",
       "                          'cathedral.txt', 'flowers_for_algernon.txt', 'sticks.txt',\n",
       "                          'symbols_and_signs.txt', 'the_bogey_beast.txt', 'the_lottery.txt',\n",
       "                          'the_veldt.txt'], dtype=object),\n",
       "              'xaxis': 'x',\n",
       "              'y': array([0.84004415, 0.82909457, 0.81824231, 0.85133208, 0.83113283, 0.82664466,\n",
       "                          0.83788174, 0.84533898, 0.84698812, 0.8537744 ]),\n",
       "              'yaxis': 'y'}],\n",
       "    'layout': {'barmode': 'group',\n",
       "               'legend': {'title': {'text': 'Compression Method'}, 'tracegroupgap': 0},\n",
       "               'template': '...',\n",
       "               'title': {'text': 'Relative Entropy of Compressed Bytes'},\n",
       "               'xaxis': {'anchor': 'y', 'domain': [0.0, 1.0], 'title': {'text': 'Text'}},\n",
       "               'yaxis': {'anchor': 'x', 'domain': [0.0, 1.0], 'title': {'text': 'Entropy'}}}\n",
       "})"
      ]
     },
     "execution_count": 29,
     "metadata": {},
     "output_type": "execute_result"
    }
   ],
   "source": [
    "# Make a grouped plotly bar chart\n",
    "px.bar(\n",
    "    combined_df, \n",
    "    barmode='group',\n",
    "    title='Relative Entropy of Compressed Bytes',\n",
    "    labels={\n",
    "        'value': 'Entropy',\n",
    "        'index': 'Text',\n",
    "        'variable': 'Compression Method'})"
   ]
  },
  {
   "cell_type": "code",
   "execution_count": null,
   "metadata": {},
   "outputs": [],
   "source": [
    "# Average all indeces\n",
    "transposed_df = combined_df.T\n",
    "transposed_df = transposed_df.mean(axis=1)"
   ]
  },
  {
   "cell_type": "code",
   "execution_count": null,
   "metadata": {},
   "outputs": [],
   "source": [
    "# Make a grouped plotly bar chart\n",
    "px.bar(\n",
    "    transposed_df, \n",
    "    x=transposed_df.index,\n",
    "    y=transposed_df.values,\n",
    "    color=transposed_df.index,\n",
    "    text=transposed_df.values.round(3),\n",
    "    title='Averaged Entropy of Compressed Bytes',\n",
    "    labels={\n",
    "        'y': 'Relative Entropy',\n",
    "        'index': 'Compression Method'})"
   ]
  },
  {
   "attachments": {},
   "cell_type": "markdown",
   "metadata": {},
   "source": [
    "### Computing Compression Ratio"
   ]
  },
  {
   "cell_type": "code",
   "execution_count": null,
   "metadata": {},
   "outputs": [],
   "source": [
    "# ChatGPT Compression Ratio\n",
    "file_name_to_chatGPT4_compression_ratio: Dict[str, float] = {}\n",
    "for file_name in file_name_to_original_text.keys():\n",
    "    compression_ratio = 1-(len(file_name_to_chatGPT4_compressed_bytes[file_name]) / len(file_name_to_original_text[file_name].encode('utf-8')))\n",
    "    file_name_to_chatGPT4_compression_ratio[file_name] = compression_ratio"
   ]
  },
  {
   "cell_type": "code",
   "execution_count": null,
   "metadata": {},
   "outputs": [],
   "source": [
    "# zlib Most Compressed Compression Ratio\n",
    "file_name_to_zlib_most_compression_ratio: Dict[str, float] = {}\n",
    "for file_name in file_name_to_original_text.keys():\n",
    "    compression_ratio = 1-(len(file_name_to_zlib_most_compressed_bytes[file_name]) / len(file_name_to_original_text[file_name].encode('utf-8')))\n",
    "    file_name_to_zlib_most_compression_ratio[file_name] = compression_ratio"
   ]
  },
  {
   "cell_type": "code",
   "execution_count": null,
   "metadata": {},
   "outputs": [],
   "source": [
    "# zlib Most Least Compression Ratio\n",
    "file_name_to_zlib_least_compression_ratio: Dict[str, float] = {}\n",
    "for file_name in file_name_to_original_text.keys():\n",
    "    compression_ratio = 1-(len(file_name_to_zlib_least_compressed_bytes[file_name]) / len(file_name_to_original_text[file_name].encode('utf-8')))\n",
    "    file_name_to_zlib_least_compression_ratio[file_name] = compression_ratio"
   ]
  },
  {
   "cell_type": "code",
   "execution_count": null,
   "metadata": {},
   "outputs": [],
   "source": [
    "ZLIB_MOST_COMPRESSION_RATIO_DATA_PATH = \"experiment_data/zlib_most_compression_ratio.json\"\n",
    "with open(ZLIB_MOST_COMPRESSION_RATIO_DATA_PATH, 'w') as f:\n",
    "    json.dump(file_name_to_zlib_most_compression_ratio, f)"
   ]
  },
  {
   "cell_type": "code",
   "execution_count": null,
   "metadata": {},
   "outputs": [],
   "source": [
    "ZLIB_LEAST_COMPRESSION_RATIO_DATA_PATH = \"experiment_data/zlib_least_compression_ratio.json\"\n",
    "with open(ZLIB_LEAST_COMPRESSION_RATIO_DATA_PATH, 'w') as f:\n",
    "    json.dump(file_name_to_zlib_least_compression_ratio, f)"
   ]
  },
  {
   "attachments": {},
   "cell_type": "markdown",
   "metadata": {},
   "source": [
    "### Graphing Compression Ratio"
   ]
  },
  {
   "cell_type": "code",
   "execution_count": null,
   "metadata": {},
   "outputs": [],
   "source": [
    "combined_ratio_df = pd.DataFrame({\n",
    "    'ChatGPT4': file_name_to_chatGPT4_compression_ratio,\n",
    "    'zlib Most Compressed': file_name_to_zlib_most_compression_ratio,\n",
    "    'zlib Least Compressed': file_name_to_zlib_least_compression_ratio})"
   ]
  },
  {
   "cell_type": "code",
   "execution_count": null,
   "metadata": {},
   "outputs": [],
   "source": [
    "# Plot the compression ratio\n",
    "px.bar(\n",
    "    combined_ratio_df,\n",
    "    title='Compression Ratio',\n",
    "    labels={\n",
    "        'value': 'Compression Ratio',\n",
    "        'index': 'Text',\n",
    "        'variable': 'Compression Method'},\n",
    "    barmode='group')"
   ]
  },
  {
   "cell_type": "code",
   "execution_count": null,
   "metadata": {},
   "outputs": [],
   "source": [
    "# Average Universly\n",
    "transposed_ratio_df = combined_ratio_df.T\n",
    "transposed_ratio_df = transposed_ratio_df.mean(axis=1)"
   ]
  },
  {
   "cell_type": "code",
   "execution_count": null,
   "metadata": {},
   "outputs": [],
   "source": [
    "\n",
    "# Plot the averaged compression ratio\n",
    "px.bar(\n",
    "    transposed_ratio_df,\n",
    "    x=transposed_ratio_df.index,\n",
    "    y=transposed_ratio_df.values,\n",
    "    color=transposed_ratio_df.index,\n",
    "    text=transposed_ratio_df.values.round(3),\n",
    "    title='Averaged Compression Ratio',\n",
    "    labels={\n",
    "        'value': 'Average Compression Ratio',\n",
    "        'index': 'Compression Method'})"
   ]
  },
  {
   "attachments": {},
   "cell_type": "markdown",
   "metadata": {},
   "source": [
    "### Computing Edit Distance"
   ]
  },
  {
   "cell_type": "code",
   "execution_count": null,
   "metadata": {},
   "outputs": [],
   "source": [
    "# ChatGPT4 Compression Edit Distance\n",
    "file_name_to_chatGPT4_compression_edit_distance: Dict[str, float] = {}\n",
    "for file_name in file_name_to_original_text.keys():\n",
    "    compression_edit_distance = functions.edit_distance(file_name_to_chatGPT4_decompressed_text[file_name], file_name_to_original_text[file_name])\n",
    "    file_name_to_chatGPT4_compression_edit_distance[file_name] = compression_edit_distance"
   ]
  },
  {
   "cell_type": "code",
   "execution_count": null,
   "metadata": {},
   "outputs": [],
   "source": [
    "# zlib Most Compressed Compression Edit Distance\n",
    "file_name_to_zlib_most_compression_edit_distance: Dict[str, float] = {}\n",
    "for file_name in file_name_to_original_text.keys():\n",
    "    compression_edit_distance = functions.edit_distance(file_name_to_zlib_most_decompressed_text[file_name], file_name_to_original_text[file_name])\n",
    "    file_name_to_zlib_most_compression_edit_distance[file_name] = compression_edit_distance"
   ]
  },
  {
   "cell_type": "code",
   "execution_count": null,
   "metadata": {},
   "outputs": [],
   "source": [
    "# zlib Least Compressed Compression Edit Distance\n",
    "file_name_to_zlib_least_compression_edit_distance: Dict[str, float] = {}\n",
    "for file_name in file_name_to_original_text.keys():\n",
    "    compression_edit_distance = functions.edit_distance(file_name_to_zlib_least_decompressed_text[file_name], file_name_to_original_text[file_name])\n",
    "    file_name_to_zlib_least_compression_edit_distance[file_name] = compression_edit_distance"
   ]
  },
  {
   "cell_type": "code",
   "execution_count": null,
   "metadata": {},
   "outputs": [],
   "source": [
    "ZLIB_MOST_COMPRESSION_EDIT_DISTANCE_DATA_PATH = \"experiment_data/zlib_most_compression_edit_distance.json\"\n",
    "with open(ZLIB_MOST_COMPRESSION_EDIT_DISTANCE_DATA_PATH, 'w') as f:\n",
    "    json.dump(file_name_to_zlib_most_compression_edit_distance, f)"
   ]
  },
  {
   "cell_type": "code",
   "execution_count": null,
   "metadata": {},
   "outputs": [],
   "source": [
    "ZLIB_LEAST_COMPRESSION_EDIT_DISTANCE_DATA_PATH = \"experiment_data/zlib_least_compression_edit_distance.json\"\n",
    "with open(ZLIB_LEAST_COMPRESSION_EDIT_DISTANCE_DATA_PATH, 'w') as f:\n",
    "    json.dump(file_name_to_zlib_least_compression_edit_distance, f)"
   ]
  },
  {
   "attachments": {},
   "cell_type": "markdown",
   "metadata": {},
   "source": [
    "### Graphing Edit Distance"
   ]
  },
  {
   "cell_type": "code",
   "execution_count": null,
   "metadata": {},
   "outputs": [],
   "source": [
    "combined_edit_distance_df = pd.DataFrame({\n",
    "    'ChatGPT4': file_name_to_chatGPT4_compression_edit_distance,\n",
    "    'zlib Most Compressed': file_name_to_zlib_most_compression_edit_distance,\n",
    "    'zlib Least Compressed': file_name_to_zlib_least_compression_edit_distance})"
   ]
  },
  {
   "cell_type": "code",
   "execution_count": null,
   "metadata": {},
   "outputs": [],
   "source": [
    "transposed_edit_distance_df_2 = combined_edit_distance_df.T\n",
    "transposed_edit_distance_df_2 = transposed_edit_distance_df_2.mean(axis=1)\n",
    "# Univerally normalize the data\n",
    "combined_edit_distance_df = combined_edit_distance_df / combined_edit_distance_df.max().max()"
   ]
  },
  {
   "cell_type": "code",
   "execution_count": null,
   "metadata": {},
   "outputs": [],
   "source": [
    "# Plot the compression edit distance\n",
    "px.bar(\n",
    "    combined_edit_distance_df,\n",
    "    title='Compression Edit Distance',\n",
    "    labels={\n",
    "        'value': 'Compression Edit Distance',\n",
    "        'index': 'Text'},\n",
    "    barmode='group')"
   ]
  },
  {
   "cell_type": "code",
   "execution_count": null,
   "metadata": {},
   "outputs": [],
   "source": [
    "# Average Universally\n",
    "transposed_edit_distance_df = combined_edit_distance_df.T\n",
    "transposed_edit_distance_df = transposed_edit_distance_df.mean(axis=1)"
   ]
  },
  {
   "cell_type": "code",
   "execution_count": null,
   "metadata": {},
   "outputs": [],
   "source": [
    "# Plot the compression edit distance\n",
    "px.bar(\n",
    "    transposed_edit_distance_df,\n",
    "    title='Compression Edit Distance',\n",
    "    color=transposed_edit_distance_df.index,\n",
    "    text=transposed_edit_distance_df.values.round(3),\n",
    "    labels={\n",
    "        'value': 'Edit Distance',\n",
    "        'index': 'Compression Method'})"
   ]
  },
  {
   "attachments": {},
   "cell_type": "markdown",
   "metadata": {},
   "source": [
    "### Computing Embedding Cosine Distance"
   ]
  },
  {
   "cell_type": "code",
   "execution_count": null,
   "metadata": {},
   "outputs": [],
   "source": [
    "# ChatGPT4 Decompression Cosine Similarity\n",
    "file_name_to_chatGPT4_decompression_cosine_similarity: Dict[str, float] = {}\n",
    "for file_name in file_name_to_original_text.keys():\n",
    "    decompression_cosine_similarity = functions.cosine_distance(file_name_to_chatGPT4_decompressed_text_embeddings[file_name], file_name_to_original_text_embeddings[file_name])\n",
    "    file_name_to_chatGPT4_decompression_cosine_similarity[file_name] = decompression_cosine_similarity"
   ]
  },
  {
   "cell_type": "code",
   "execution_count": null,
   "metadata": {},
   "outputs": [],
   "source": [
    "# zlib Most Compressed Decompression Cosine Similarity\n",
    "file_name_to_zlib_most_decompression_cosine_similarity: Dict[str, float] = {}\n",
    "for file_name in file_name_to_original_text.keys():\n",
    "    # Using the original text embeddings twice as there is no loss in compression\n",
    "    decompression_cosine_similarity = functions.cosine_distance(file_name_to_original_text_embeddings[file_name], file_name_to_original_text_embeddings[file_name])\n",
    "    file_name_to_zlib_most_decompression_cosine_similarity[file_name] = decompression_cosine_similarity"
   ]
  },
  {
   "cell_type": "code",
   "execution_count": null,
   "metadata": {},
   "outputs": [],
   "source": [
    "# zlib Leasr Compressed Decompression Cosine Similarity\n",
    "file_name_to_zlib_least_decompression_cosine_similarity: Dict[str, float] = {}\n",
    "for file_name in file_name_to_original_text.keys():\n",
    "    # Using the original text embeddings twice as there is no loss in compression\n",
    "    decompression_cosine_similarity = functions.cosine_distance(file_name_to_original_text_embeddings[file_name], file_name_to_original_text_embeddings[file_name])\n",
    "    file_name_to_zlib_least_decompression_cosine_similarity[file_name] = decompression_cosine_similarity"
   ]
  },
  {
   "cell_type": "code",
   "execution_count": null,
   "metadata": {},
   "outputs": [],
   "source": [
    "ZLIB_MOST_COMPRESSION_COSINE_SIM_DATA_PATH = \"experiment_data/zlib_most_cosine_sim.json\"\n",
    "with open(ZLIB_MOST_COMPRESSION_COSINE_SIM_DATA_PATH, 'w') as f:\n",
    "    json.dump(file_name_to_zlib_most_decompression_cosine_similarity, f)"
   ]
  },
  {
   "cell_type": "code",
   "execution_count": null,
   "metadata": {},
   "outputs": [],
   "source": [
    "ZLIB_LEAST_COMPRESSION_COSINE_SIM_DATA_PATH = \"experiment_data/zlib_least_cosine_sim.json\"\n",
    "with open(ZLIB_LEAST_COMPRESSION_COSINE_SIM_DATA_PATH, 'w') as f:\n",
    "    json.dump(file_name_to_zlib_least_decompression_cosine_similarity, f)"
   ]
  },
  {
   "attachments": {},
   "cell_type": "markdown",
   "metadata": {},
   "source": [
    "### Graphing Embedding Cosine Distance"
   ]
  },
  {
   "cell_type": "code",
   "execution_count": null,
   "metadata": {},
   "outputs": [],
   "source": [
    "combined_cosine_similarity_df = pd.DataFrame({\n",
    "    'ChatGPT4': file_name_to_chatGPT4_decompression_cosine_similarity,\n",
    "    'zlib Most Compressed': file_name_to_zlib_most_decompression_cosine_similarity,\n",
    "    'zlib Least Compressed': file_name_to_zlib_least_decompression_cosine_similarity})"
   ]
  },
  {
   "cell_type": "code",
   "execution_count": null,
   "metadata": {},
   "outputs": [],
   "source": [
    "# Plot the decompression cosine similarity\n",
    "px.bar(\n",
    "    combined_cosine_similarity_df,\n",
    "    title='Decompression Embedding Cosine Similarity',\n",
    "    labels={\n",
    "        'value': 'Cosine Similarity',\n",
    "        'index': 'Text'},\n",
    "    barmode='group')"
   ]
  },
  {
   "cell_type": "code",
   "execution_count": null,
   "metadata": {},
   "outputs": [],
   "source": [
    "# Average Universally\n",
    "transposed_cosine_similarity_df = combined_cosine_similarity_df.T\n",
    "transposed_cosine_similarity_df = transposed_cosine_similarity_df.mean(axis=1)"
   ]
  },
  {
   "cell_type": "code",
   "execution_count": null,
   "metadata": {},
   "outputs": [],
   "source": [
    "# Plot the decompression cosine similarity\n",
    "px.bar(\n",
    "    transposed_cosine_similarity_df,\n",
    "    title='Averaged Decompression Cosine Similarity',\n",
    "    color=transposed_cosine_similarity_df.index,\n",
    "    text=transposed_cosine_similarity_df.values.round(3),\n",
    "    labels={\n",
    "        'value': 'Decompression Cosine Similarity',\n",
    "        'index': 'Compression Method'})"
   ]
  }
 ],
 "metadata": {
  "kernelspec": {
   "display_name": "phd_chatgpt",
   "language": "python",
   "name": "python3"
  },
  "language_info": {
   "codemirror_mode": {
    "name": "ipython",
    "version": 3
   },
   "file_extension": ".py",
   "mimetype": "text/x-python",
   "name": "python",
   "nbconvert_exporter": "python",
   "pygments_lexer": "ipython3",
   "version": "3.12.0"
  },
  "orig_nbformat": 4
 },
 "nbformat": 4,
 "nbformat_minor": 2
}
